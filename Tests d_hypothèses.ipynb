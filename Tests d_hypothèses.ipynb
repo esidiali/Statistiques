{
 "cells": [
  {
   "cell_type": "code",
   "execution_count": 1,
   "metadata": {},
   "outputs": [
    {
     "data": {
      "text/html": [
       "<table>\n",
       "<thead><tr><th scope=col>X</th><th scope=col>statut</th><th scope=col>age</th><th scope=col>expérience.professionnelle</th><th scope=col>temps.passé.moyen.sur.internet</th><th scope=col>appareil.préféré.de.consultation</th><th scope=col>nombre.de.boites.mail</th><th scope=col>nombre.de.messagerie.consultées.régulièrement</th><th scope=col>fréquence.de.consultation.de.la.messagerie</th><th scope=col>nombre.de.mails.reçus.par.jour</th><th scope=col>...</th><th scope=col>lecture.de.tous.les.mails</th><th scope=col>lecture.de.l.objet.expéditeur</th><th scope=col>nombre.de.mails.non.lus</th><th scope=col>nombre.de.mails.envoyés.par.semaine</th><th scope=col>réponse.à.des.mails.nécessitant.une.réponse</th><th scope=col>consultation.de.mails.en.dehors.des.heures.de.travail.études</th><th scope=col>personnalisation.de.la.messagerie</th><th scope=col>importance.de.l.ergonomie</th><th scope=col>sentiment.envers.de.zéro.inbox</th><th scope=col>autre.fonctionnalité.de.la.boite.mail</th></tr></thead>\n",
       "<tbody>\n",
       "\t<tr><td>1                                                                 </td><td><span style=white-space:pre-wrap>3A        </span>                </td><td>23                                                                </td><td><span style=white-space:pre-wrap>Expérience &gt; 6 mois   </span> </td><td>6                                                                 </td><td>Un ordinateur                                                     </td><td>3                                                                 </td><td>2                                                                 </td><td>&lt; 10                                                           </td><td> 5                                                                </td><td>...                                                               </td><td>En grande partie                                                  </td><td>Oui                                                               </td><td><span style=white-space:pre-wrap>   0</span>                      </td><td><span style=white-space:pre-wrap>  4</span>                       </td><td><span style=white-space:pre-wrap>oui    </span>                   </td><td>oui                                                               </td><td>Non                                                               </td><td>Relativement importante                                           </td><td><span style=white-space:pre-wrap>Marquer tout en lu        </span></td><td>Non, j'ai d'autres outils pour ça                                 </td></tr>\n",
       "\t<tr><td>2                                                                        </td><td>Enseignant                                                               </td><td>34                                                                       </td><td>Ça se compte en années                                                   </td><td>7                                                                        </td><td>Un ordinateur                                                            </td><td>3                                                                        </td><td>2                                                                        </td><td>&gt; 10                                                                  </td><td>50                                                                       </td><td>...                                                                      </td><td><span style=white-space:pre-wrap>Quasiment tous  </span>                 </td><td>Oui                                                                      </td><td><span style=white-space:pre-wrap>   5</span>                             </td><td>100                                                                      </td><td><span style=white-space:pre-wrap>oui    </span>                          </td><td>oui                                                                      </td><td>Oui                                                                      </td><td><span style=white-space:pre-wrap>Très importante         </span>         </td><td><span style=white-space:pre-wrap>Lire tous les mails       </span>       </td><td><span style=white-space:pre-wrap>Oui, souvent                     </span></td></tr>\n",
       "\t<tr><td>3                                                                 </td><td><span style=white-space:pre-wrap>1A        </span>                </td><td>20                                                                </td><td><span style=white-space:pre-wrap>Entre 1 et 6 mois     </span>    </td><td>4                                                                 </td><td>Un smartphone                                                     </td><td>5                                                                 </td><td>4                                                                 </td><td>&lt; 3                                                            </td><td> 2                                                                </td><td>...                                                               </td><td><span style=white-space:pre-wrap>Rarement        </span>          </td><td>Oui                                                               </td><td><span style=white-space:pre-wrap>   0</span>                      </td><td><span style=white-space:pre-wrap>  1</span>                       </td><td><span style=white-space:pre-wrap>Oui    </span>                   </td><td>Non                                                               </td><td>Non                                                               </td><td>Relativement importante                                           </td><td><span style=white-space:pre-wrap>Marquer tout en lu        </span></td><td>Non, j'ai d'autres outils pour ça                                 </td></tr>\n",
       "\t<tr><td>4                                                                        </td><td><span style=white-space:pre-wrap>Autre     </span>                       </td><td>26                                                                       </td><td><span style=white-space:pre-wrap>Expérience &gt; 6 mois   </span>        </td><td>8                                                                        </td><td>Un ordinateur                                                            </td><td>2                                                                        </td><td>2                                                                        </td><td>&gt; 10                                                                  </td><td>10                                                                       </td><td>...                                                                      </td><td><span style=white-space:pre-wrap>Rarement        </span>                 </td><td>Oui                                                                      </td><td><span style=white-space:pre-wrap>   0</span>                             </td><td><span style=white-space:pre-wrap>  3</span>                              </td><td>Parfois                                                                  </td><td>Non                                                                      </td><td>Oui                                                                      </td><td>Relativement importante                                                  </td><td><span style=white-space:pre-wrap>Marquer tout en lu        </span>       </td><td><span style=white-space:pre-wrap>Oui, parfois                     </span></td></tr>\n",
       "\t<tr><td>6                                                                 </td><td>Enseignant                                                        </td><td>35                                                                </td><td>Ça se compte en années                                            </td><td>5                                                                 </td><td>Un ordinateur                                                     </td><td>2                                                                 </td><td>2                                                                 </td><td>&gt; 10                                                           </td><td>20                                                                </td><td>...                                                               </td><td><span style=white-space:pre-wrap>Rarement        </span>          </td><td>Oui                                                               </td><td><span style=white-space:pre-wrap>   0</span>                      </td><td> 50                                                               </td><td><span style=white-space:pre-wrap>Oui    </span>                   </td><td>Oui                                                               </td><td>Non                                                               </td><td>Relativement importante                                           </td><td><span style=white-space:pre-wrap>Marquer tout en lu        </span></td><td>Non, j'ai d'autres outils pour ça                                 </td></tr>\n",
       "\t<tr><td>7                                                                        </td><td>Enseignant                                                               </td><td>56                                                                       </td><td>Ça se compte en années                                                   </td><td>8                                                                        </td><td>Un ordinateur                                                            </td><td>2                                                                        </td><td>2                                                                        </td><td>&gt; 30                                                                  </td><td>30                                                                       </td><td>...                                                                      </td><td>En grande partie                                                         </td><td>Oui                                                                      </td><td>9526                                                                     </td><td> 30                                                                      </td><td>Parfois                                                                  </td><td>Oui                                                                      </td><td>Non                                                                      </td><td>Pas tellement importante                                                 </td><td>Avoir 10.000 mails non lus                                               </td><td><span style=white-space:pre-wrap>Oui, parfois                     </span></td></tr>\n",
       "</tbody>\n",
       "</table>\n"
      ],
      "text/latex": [
       "\\begin{tabular}{r|llllllllllllllllllllll}\n",
       " X & statut & age & expérience.professionnelle & temps.passé.moyen.sur.internet & appareil.préféré.de.consultation & nombre.de.boites.mail & nombre.de.messagerie.consultées.régulièrement & fréquence.de.consultation.de.la.messagerie & nombre.de.mails.reçus.par.jour & ... & lecture.de.tous.les.mails & lecture.de.l.objet.expéditeur & nombre.de.mails.non.lus & nombre.de.mails.envoyés.par.semaine & réponse.à.des.mails.nécessitant.une.réponse & consultation.de.mails.en.dehors.des.heures.de.travail.études & personnalisation.de.la.messagerie & importance.de.l.ergonomie & sentiment.envers.de.zéro.inbox & autre.fonctionnalité.de.la.boite.mail\\\\\n",
       "\\hline\n",
       "\t 1                                 & 3A                                & 23                                & Expérience > 6 mois               & 6                                 & Un ordinateur                     & 3                                 & 2                                 & < 10                              &  5                                & ...                               & En grande partie                  & Oui                               &    0                              &   4                               & oui                               & oui                               & Non                               & Relativement importante           & Marquer tout en lu                & Non, j'ai d'autres outils pour ça\\\\\n",
       "\t 2                                 & Enseignant                        & 34                                & Ça se compte en années            & 7                                 & Un ordinateur                     & 3                                 & 2                                 & > 10                              & 50                                & ...                               & Quasiment tous                    & Oui                               &    5                              & 100                               & oui                               & oui                               & Oui                               & Très importante                   & Lire tous les mails               & Oui, souvent                     \\\\\n",
       "\t 3                                 & 1A                                & 20                                & Entre 1 et 6 mois                 & 4                                 & Un smartphone                     & 5                                 & 4                                 & < 3                               &  2                                & ...                               & Rarement                          & Oui                               &    0                              &   1                               & Oui                               & Non                               & Non                               & Relativement importante           & Marquer tout en lu                & Non, j'ai d'autres outils pour ça\\\\\n",
       "\t 4                                 & Autre                             & 26                                & Expérience > 6 mois               & 8                                 & Un ordinateur                     & 2                                 & 2                                 & > 10                              & 10                                & ...                               & Rarement                          & Oui                               &    0                              &   3                               & Parfois                           & Non                               & Oui                               & Relativement importante           & Marquer tout en lu                & Oui, parfois                     \\\\\n",
       "\t 6                                 & Enseignant                        & 35                                & Ça se compte en années            & 5                                 & Un ordinateur                     & 2                                 & 2                                 & > 10                              & 20                                & ...                               & Rarement                          & Oui                               &    0                              &  50                               & Oui                               & Oui                               & Non                               & Relativement importante           & Marquer tout en lu                & Non, j'ai d'autres outils pour ça\\\\\n",
       "\t 7                                 & Enseignant                        & 56                                & Ça se compte en années            & 8                                 & Un ordinateur                     & 2                                 & 2                                 & > 30                              & 30                                & ...                               & En grande partie                  & Oui                               & 9526                              &  30                               & Parfois                           & Oui                               & Non                               & Pas tellement importante          & Avoir 10.000 mails non lus        & Oui, parfois                     \\\\\n",
       "\\end{tabular}\n"
      ],
      "text/markdown": [
       "\n",
       "X | statut | age | expérience.professionnelle | temps.passé.moyen.sur.internet | appareil.préféré.de.consultation | nombre.de.boites.mail | nombre.de.messagerie.consultées.régulièrement | fréquence.de.consultation.de.la.messagerie | nombre.de.mails.reçus.par.jour | ... | lecture.de.tous.les.mails | lecture.de.l.objet.expéditeur | nombre.de.mails.non.lus | nombre.de.mails.envoyés.par.semaine | réponse.à.des.mails.nécessitant.une.réponse | consultation.de.mails.en.dehors.des.heures.de.travail.études | personnalisation.de.la.messagerie | importance.de.l.ergonomie | sentiment.envers.de.zéro.inbox | autre.fonctionnalité.de.la.boite.mail | \n",
       "|---|---|---|---|---|---|\n",
       "| 1                                 | 3A                                | 23                                | Expérience > 6 mois               | 6                                 | Un ordinateur                     | 3                                 | 2                                 | < 10                              |  5                                | ...                               | En grande partie                  | Oui                               |    0                              |   4                               | oui                               | oui                               | Non                               | Relativement importante           | Marquer tout en lu                | Non, j'ai d'autres outils pour ça | \n",
       "| 2                                 | Enseignant                        | 34                                | Ça se compte en années            | 7                                 | Un ordinateur                     | 3                                 | 2                                 | > 10                              | 50                                | ...                               | Quasiment tous                    | Oui                               |    5                              | 100                               | oui                               | oui                               | Oui                               | Très importante                   | Lire tous les mails               | Oui, souvent                      | \n",
       "| 3                                 | 1A                                | 20                                | Entre 1 et 6 mois                 | 4                                 | Un smartphone                     | 5                                 | 4                                 | < 3                               |  2                                | ...                               | Rarement                          | Oui                               |    0                              |   1                               | Oui                               | Non                               | Non                               | Relativement importante           | Marquer tout en lu                | Non, j'ai d'autres outils pour ça | \n",
       "| 4                                 | Autre                             | 26                                | Expérience > 6 mois               | 8                                 | Un ordinateur                     | 2                                 | 2                                 | > 10                              | 10                                | ...                               | Rarement                          | Oui                               |    0                              |   3                               | Parfois                           | Non                               | Oui                               | Relativement importante           | Marquer tout en lu                | Oui, parfois                      | \n",
       "| 6                                 | Enseignant                        | 35                                | Ça se compte en années            | 5                                 | Un ordinateur                     | 2                                 | 2                                 | > 10                              | 20                                | ...                               | Rarement                          | Oui                               |    0                              |  50                               | Oui                               | Oui                               | Non                               | Relativement importante           | Marquer tout en lu                | Non, j'ai d'autres outils pour ça | \n",
       "| 7                                 | Enseignant                        | 56                                | Ça se compte en années            | 8                                 | Un ordinateur                     | 2                                 | 2                                 | > 30                              | 30                                | ...                               | En grande partie                  | Oui                               | 9526                              |  30                               | Parfois                           | Oui                               | Non                               | Pas tellement importante          | Avoir 10.000 mails non lus        | Oui, parfois                      | \n",
       "\n",
       "\n"
      ],
      "text/plain": [
       "  X statut     age expérience.professionnelle temps.passé.moyen.sur.internet\n",
       "1 1 3A         23  Expérience > 6 mois        6                             \n",
       "2 2 Enseignant 34  Ça se compte en années     7                             \n",
       "3 3 1A         20  Entre 1 et 6 mois          4                             \n",
       "4 4 Autre      26  Expérience > 6 mois        8                             \n",
       "5 6 Enseignant 35  Ça se compte en années     5                             \n",
       "6 7 Enseignant 56  Ça se compte en années     8                             \n",
       "  appareil.préféré.de.consultation nombre.de.boites.mail\n",
       "1 Un ordinateur                    3                    \n",
       "2 Un ordinateur                    3                    \n",
       "3 Un smartphone                    5                    \n",
       "4 Un ordinateur                    2                    \n",
       "5 Un ordinateur                    2                    \n",
       "6 Un ordinateur                    2                    \n",
       "  nombre.de.messagerie.consultées.régulièrement\n",
       "1 2                                            \n",
       "2 2                                            \n",
       "3 4                                            \n",
       "4 2                                            \n",
       "5 2                                            \n",
       "6 2                                            \n",
       "  fréquence.de.consultation.de.la.messagerie nombre.de.mails.reçus.par.jour ...\n",
       "1 < 10                                        5                             ...\n",
       "2 > 10                                       50                             ...\n",
       "3 < 3                                         2                             ...\n",
       "4 > 10                                       10                             ...\n",
       "5 > 10                                       20                             ...\n",
       "6 > 30                                       30                             ...\n",
       "  lecture.de.tous.les.mails lecture.de.l.objet.expéditeur\n",
       "1 En grande partie          Oui                          \n",
       "2 Quasiment tous            Oui                          \n",
       "3 Rarement                  Oui                          \n",
       "4 Rarement                  Oui                          \n",
       "5 Rarement                  Oui                          \n",
       "6 En grande partie          Oui                          \n",
       "  nombre.de.mails.non.lus nombre.de.mails.envoyés.par.semaine\n",
       "1    0                      4                                \n",
       "2    5                    100                                \n",
       "3    0                      1                                \n",
       "4    0                      3                                \n",
       "5    0                     50                                \n",
       "6 9526                     30                                \n",
       "  réponse.à.des.mails.nécessitant.une.réponse\n",
       "1 oui                                        \n",
       "2 oui                                        \n",
       "3 Oui                                        \n",
       "4 Parfois                                    \n",
       "5 Oui                                        \n",
       "6 Parfois                                    \n",
       "  consultation.de.mails.en.dehors.des.heures.de.travail.études\n",
       "1 oui                                                         \n",
       "2 oui                                                         \n",
       "3 Non                                                         \n",
       "4 Non                                                         \n",
       "5 Oui                                                         \n",
       "6 Oui                                                         \n",
       "  personnalisation.de.la.messagerie importance.de.l.ergonomie\n",
       "1 Non                               Relativement importante  \n",
       "2 Oui                               Très importante          \n",
       "3 Non                               Relativement importante  \n",
       "4 Oui                               Relativement importante  \n",
       "5 Non                               Relativement importante  \n",
       "6 Non                               Pas tellement importante \n",
       "  sentiment.envers.de.zéro.inbox autre.fonctionnalité.de.la.boite.mail\n",
       "1 Marquer tout en lu             Non, j'ai d'autres outils pour ça    \n",
       "2 Lire tous les mails            Oui, souvent                         \n",
       "3 Marquer tout en lu             Non, j'ai d'autres outils pour ça    \n",
       "4 Marquer tout en lu             Oui, parfois                         \n",
       "5 Marquer tout en lu             Non, j'ai d'autres outils pour ça    \n",
       "6 Avoir 10.000 mails non lus     Oui, parfois                         "
      ]
     },
     "metadata": {},
     "output_type": "display_data"
    }
   ],
   "source": [
    "df <- read.csv(\"dataset/clean_data.csv\", sep=\",\")\n",
    "head(df)"
   ]
  },
  {
   "cell_type": "code",
   "execution_count": 2,
   "metadata": {},
   "outputs": [],
   "source": [
    "attach(df)"
   ]
  },
  {
   "cell_type": "markdown",
   "metadata": {},
   "source": [
    "### add a new column to separate students from teachers"
   ]
  },
  {
   "cell_type": "code",
   "execution_count": 3,
   "metadata": {},
   "outputs": [
    {
     "data": {
      "text/html": [
       "<table>\n",
       "<thead><tr><th scope=col>X</th><th scope=col>statut</th><th scope=col>age</th><th scope=col>expérience.professionnelle</th><th scope=col>temps.passé.moyen.sur.internet</th><th scope=col>appareil.préféré.de.consultation</th><th scope=col>nombre.de.boites.mail</th><th scope=col>nombre.de.messagerie.consultées.régulièrement</th><th scope=col>fréquence.de.consultation.de.la.messagerie</th><th scope=col>nombre.de.mails.reçus.par.jour</th><th scope=col>...</th><th scope=col>lecture.de.l.objet.expéditeur</th><th scope=col>nombre.de.mails.non.lus</th><th scope=col>nombre.de.mails.envoyés.par.semaine</th><th scope=col>réponse.à.des.mails.nécessitant.une.réponse</th><th scope=col>consultation.de.mails.en.dehors.des.heures.de.travail.études</th><th scope=col>personnalisation.de.la.messagerie</th><th scope=col>importance.de.l.ergonomie</th><th scope=col>sentiment.envers.de.zéro.inbox</th><th scope=col>autre.fonctionnalité.de.la.boite.mail</th><th scope=col>new_statut</th></tr></thead>\n",
       "<tbody>\n",
       "\t<tr><td>1                                                                 </td><td><span style=white-space:pre-wrap>3A        </span>                </td><td>23                                                                </td><td><span style=white-space:pre-wrap>Expérience &gt; 6 mois   </span> </td><td>6                                                                 </td><td>Un ordinateur                                                     </td><td>3                                                                 </td><td>2                                                                 </td><td>&lt; 10                                                           </td><td> 5                                                                </td><td>...                                                               </td><td>Oui                                                               </td><td><span style=white-space:pre-wrap>   0</span>                      </td><td><span style=white-space:pre-wrap>  4</span>                       </td><td><span style=white-space:pre-wrap>oui    </span>                   </td><td>oui                                                               </td><td>Non                                                               </td><td>Relativement importante                                           </td><td><span style=white-space:pre-wrap>Marquer tout en lu        </span></td><td>Non, j'ai d'autres outils pour ça                                 </td><td>Etudiant                                                          </td></tr>\n",
       "\t<tr><td>2                                                                        </td><td>Enseignant                                                               </td><td>34                                                                       </td><td>Ça se compte en années                                                   </td><td>7                                                                        </td><td>Un ordinateur                                                            </td><td>3                                                                        </td><td>2                                                                        </td><td>&gt; 10                                                                  </td><td>50                                                                       </td><td>...                                                                      </td><td>Oui                                                                      </td><td><span style=white-space:pre-wrap>   5</span>                             </td><td>100                                                                      </td><td><span style=white-space:pre-wrap>oui    </span>                          </td><td>oui                                                                      </td><td>Oui                                                                      </td><td><span style=white-space:pre-wrap>Très importante         </span>         </td><td><span style=white-space:pre-wrap>Lire tous les mails       </span>       </td><td><span style=white-space:pre-wrap>Oui, souvent                     </span></td><td>Personnel                                                                </td></tr>\n",
       "\t<tr><td>3                                                                 </td><td><span style=white-space:pre-wrap>1A        </span>                </td><td>20                                                                </td><td><span style=white-space:pre-wrap>Entre 1 et 6 mois     </span>    </td><td>4                                                                 </td><td>Un smartphone                                                     </td><td>5                                                                 </td><td>4                                                                 </td><td>&lt; 3                                                            </td><td> 2                                                                </td><td>...                                                               </td><td>Oui                                                               </td><td><span style=white-space:pre-wrap>   0</span>                      </td><td><span style=white-space:pre-wrap>  1</span>                       </td><td><span style=white-space:pre-wrap>Oui    </span>                   </td><td>Non                                                               </td><td>Non                                                               </td><td>Relativement importante                                           </td><td><span style=white-space:pre-wrap>Marquer tout en lu        </span></td><td>Non, j'ai d'autres outils pour ça                                 </td><td>Etudiant                                                          </td></tr>\n",
       "\t<tr><td>4                                                                        </td><td><span style=white-space:pre-wrap>Autre     </span>                       </td><td>26                                                                       </td><td><span style=white-space:pre-wrap>Expérience &gt; 6 mois   </span>        </td><td>8                                                                        </td><td>Un ordinateur                                                            </td><td>2                                                                        </td><td>2                                                                        </td><td>&gt; 10                                                                  </td><td>10                                                                       </td><td>...                                                                      </td><td>Oui                                                                      </td><td><span style=white-space:pre-wrap>   0</span>                             </td><td><span style=white-space:pre-wrap>  3</span>                              </td><td>Parfois                                                                  </td><td>Non                                                                      </td><td>Oui                                                                      </td><td>Relativement importante                                                  </td><td><span style=white-space:pre-wrap>Marquer tout en lu        </span>       </td><td><span style=white-space:pre-wrap>Oui, parfois                     </span></td><td>Etudiant                                                                 </td></tr>\n",
       "\t<tr><td>6                                                                 </td><td>Enseignant                                                        </td><td>35                                                                </td><td>Ça se compte en années                                            </td><td>5                                                                 </td><td>Un ordinateur                                                     </td><td>2                                                                 </td><td>2                                                                 </td><td>&gt; 10                                                           </td><td>20                                                                </td><td>...                                                               </td><td>Oui                                                               </td><td><span style=white-space:pre-wrap>   0</span>                      </td><td> 50                                                               </td><td><span style=white-space:pre-wrap>Oui    </span>                   </td><td>Oui                                                               </td><td>Non                                                               </td><td>Relativement importante                                           </td><td><span style=white-space:pre-wrap>Marquer tout en lu        </span></td><td>Non, j'ai d'autres outils pour ça                                 </td><td>Personnel                                                         </td></tr>\n",
       "\t<tr><td>7                                                                        </td><td>Enseignant                                                               </td><td>56                                                                       </td><td>Ça se compte en années                                                   </td><td>8                                                                        </td><td>Un ordinateur                                                            </td><td>2                                                                        </td><td>2                                                                        </td><td>&gt; 30                                                                  </td><td>30                                                                       </td><td>...                                                                      </td><td>Oui                                                                      </td><td>9526                                                                     </td><td> 30                                                                      </td><td>Parfois                                                                  </td><td>Oui                                                                      </td><td>Non                                                                      </td><td>Pas tellement importante                                                 </td><td>Avoir 10.000 mails non lus                                               </td><td><span style=white-space:pre-wrap>Oui, parfois                     </span></td><td>Personnel                                                                </td></tr>\n",
       "</tbody>\n",
       "</table>\n"
      ],
      "text/latex": [
       "\\begin{tabular}{r|lllllllllllllllllllllll}\n",
       " X & statut & age & expérience.professionnelle & temps.passé.moyen.sur.internet & appareil.préféré.de.consultation & nombre.de.boites.mail & nombre.de.messagerie.consultées.régulièrement & fréquence.de.consultation.de.la.messagerie & nombre.de.mails.reçus.par.jour & ... & lecture.de.l.objet.expéditeur & nombre.de.mails.non.lus & nombre.de.mails.envoyés.par.semaine & réponse.à.des.mails.nécessitant.une.réponse & consultation.de.mails.en.dehors.des.heures.de.travail.études & personnalisation.de.la.messagerie & importance.de.l.ergonomie & sentiment.envers.de.zéro.inbox & autre.fonctionnalité.de.la.boite.mail & new\\_statut\\\\\n",
       "\\hline\n",
       "\t 1                                 & 3A                                & 23                                & Expérience > 6 mois               & 6                                 & Un ordinateur                     & 3                                 & 2                                 & < 10                              &  5                                & ...                               & Oui                               &    0                              &   4                               & oui                               & oui                               & Non                               & Relativement importante           & Marquer tout en lu                & Non, j'ai d'autres outils pour ça & Etudiant                         \\\\\n",
       "\t 2                                 & Enseignant                        & 34                                & Ça se compte en années            & 7                                 & Un ordinateur                     & 3                                 & 2                                 & > 10                              & 50                                & ...                               & Oui                               &    5                              & 100                               & oui                               & oui                               & Oui                               & Très importante                   & Lire tous les mails               & Oui, souvent                      & Personnel                        \\\\\n",
       "\t 3                                 & 1A                                & 20                                & Entre 1 et 6 mois                 & 4                                 & Un smartphone                     & 5                                 & 4                                 & < 3                               &  2                                & ...                               & Oui                               &    0                              &   1                               & Oui                               & Non                               & Non                               & Relativement importante           & Marquer tout en lu                & Non, j'ai d'autres outils pour ça & Etudiant                         \\\\\n",
       "\t 4                                 & Autre                             & 26                                & Expérience > 6 mois               & 8                                 & Un ordinateur                     & 2                                 & 2                                 & > 10                              & 10                                & ...                               & Oui                               &    0                              &   3                               & Parfois                           & Non                               & Oui                               & Relativement importante           & Marquer tout en lu                & Oui, parfois                      & Etudiant                         \\\\\n",
       "\t 6                                 & Enseignant                        & 35                                & Ça se compte en années            & 5                                 & Un ordinateur                     & 2                                 & 2                                 & > 10                              & 20                                & ...                               & Oui                               &    0                              &  50                               & Oui                               & Oui                               & Non                               & Relativement importante           & Marquer tout en lu                & Non, j'ai d'autres outils pour ça & Personnel                        \\\\\n",
       "\t 7                                 & Enseignant                        & 56                                & Ça se compte en années            & 8                                 & Un ordinateur                     & 2                                 & 2                                 & > 30                              & 30                                & ...                               & Oui                               & 9526                              &  30                               & Parfois                           & Oui                               & Non                               & Pas tellement importante          & Avoir 10.000 mails non lus        & Oui, parfois                      & Personnel                        \\\\\n",
       "\\end{tabular}\n"
      ],
      "text/markdown": [
       "\n",
       "X | statut | age | expérience.professionnelle | temps.passé.moyen.sur.internet | appareil.préféré.de.consultation | nombre.de.boites.mail | nombre.de.messagerie.consultées.régulièrement | fréquence.de.consultation.de.la.messagerie | nombre.de.mails.reçus.par.jour | ... | lecture.de.l.objet.expéditeur | nombre.de.mails.non.lus | nombre.de.mails.envoyés.par.semaine | réponse.à.des.mails.nécessitant.une.réponse | consultation.de.mails.en.dehors.des.heures.de.travail.études | personnalisation.de.la.messagerie | importance.de.l.ergonomie | sentiment.envers.de.zéro.inbox | autre.fonctionnalité.de.la.boite.mail | new_statut | \n",
       "|---|---|---|---|---|---|\n",
       "| 1                                 | 3A                                | 23                                | Expérience > 6 mois               | 6                                 | Un ordinateur                     | 3                                 | 2                                 | < 10                              |  5                                | ...                               | Oui                               |    0                              |   4                               | oui                               | oui                               | Non                               | Relativement importante           | Marquer tout en lu                | Non, j'ai d'autres outils pour ça | Etudiant                          | \n",
       "| 2                                 | Enseignant                        | 34                                | Ça se compte en années            | 7                                 | Un ordinateur                     | 3                                 | 2                                 | > 10                              | 50                                | ...                               | Oui                               |    5                              | 100                               | oui                               | oui                               | Oui                               | Très importante                   | Lire tous les mails               | Oui, souvent                      | Personnel                         | \n",
       "| 3                                 | 1A                                | 20                                | Entre 1 et 6 mois                 | 4                                 | Un smartphone                     | 5                                 | 4                                 | < 3                               |  2                                | ...                               | Oui                               |    0                              |   1                               | Oui                               | Non                               | Non                               | Relativement importante           | Marquer tout en lu                | Non, j'ai d'autres outils pour ça | Etudiant                          | \n",
       "| 4                                 | Autre                             | 26                                | Expérience > 6 mois               | 8                                 | Un ordinateur                     | 2                                 | 2                                 | > 10                              | 10                                | ...                               | Oui                               |    0                              |   3                               | Parfois                           | Non                               | Oui                               | Relativement importante           | Marquer tout en lu                | Oui, parfois                      | Etudiant                          | \n",
       "| 6                                 | Enseignant                        | 35                                | Ça se compte en années            | 5                                 | Un ordinateur                     | 2                                 | 2                                 | > 10                              | 20                                | ...                               | Oui                               |    0                              |  50                               | Oui                               | Oui                               | Non                               | Relativement importante           | Marquer tout en lu                | Non, j'ai d'autres outils pour ça | Personnel                         | \n",
       "| 7                                 | Enseignant                        | 56                                | Ça se compte en années            | 8                                 | Un ordinateur                     | 2                                 | 2                                 | > 30                              | 30                                | ...                               | Oui                               | 9526                              |  30                               | Parfois                           | Oui                               | Non                               | Pas tellement importante          | Avoir 10.000 mails non lus        | Oui, parfois                      | Personnel                         | \n",
       "\n",
       "\n"
      ],
      "text/plain": [
       "  X statut     age expérience.professionnelle temps.passé.moyen.sur.internet\n",
       "1 1 3A         23  Expérience > 6 mois        6                             \n",
       "2 2 Enseignant 34  Ça se compte en années     7                             \n",
       "3 3 1A         20  Entre 1 et 6 mois          4                             \n",
       "4 4 Autre      26  Expérience > 6 mois        8                             \n",
       "5 6 Enseignant 35  Ça se compte en années     5                             \n",
       "6 7 Enseignant 56  Ça se compte en années     8                             \n",
       "  appareil.préféré.de.consultation nombre.de.boites.mail\n",
       "1 Un ordinateur                    3                    \n",
       "2 Un ordinateur                    3                    \n",
       "3 Un smartphone                    5                    \n",
       "4 Un ordinateur                    2                    \n",
       "5 Un ordinateur                    2                    \n",
       "6 Un ordinateur                    2                    \n",
       "  nombre.de.messagerie.consultées.régulièrement\n",
       "1 2                                            \n",
       "2 2                                            \n",
       "3 4                                            \n",
       "4 2                                            \n",
       "5 2                                            \n",
       "6 2                                            \n",
       "  fréquence.de.consultation.de.la.messagerie nombre.de.mails.reçus.par.jour ...\n",
       "1 < 10                                        5                             ...\n",
       "2 > 10                                       50                             ...\n",
       "3 < 3                                         2                             ...\n",
       "4 > 10                                       10                             ...\n",
       "5 > 10                                       20                             ...\n",
       "6 > 30                                       30                             ...\n",
       "  lecture.de.l.objet.expéditeur nombre.de.mails.non.lus\n",
       "1 Oui                              0                   \n",
       "2 Oui                              5                   \n",
       "3 Oui                              0                   \n",
       "4 Oui                              0                   \n",
       "5 Oui                              0                   \n",
       "6 Oui                           9526                   \n",
       "  nombre.de.mails.envoyés.par.semaine\n",
       "1   4                                \n",
       "2 100                                \n",
       "3   1                                \n",
       "4   3                                \n",
       "5  50                                \n",
       "6  30                                \n",
       "  réponse.à.des.mails.nécessitant.une.réponse\n",
       "1 oui                                        \n",
       "2 oui                                        \n",
       "3 Oui                                        \n",
       "4 Parfois                                    \n",
       "5 Oui                                        \n",
       "6 Parfois                                    \n",
       "  consultation.de.mails.en.dehors.des.heures.de.travail.études\n",
       "1 oui                                                         \n",
       "2 oui                                                         \n",
       "3 Non                                                         \n",
       "4 Non                                                         \n",
       "5 Oui                                                         \n",
       "6 Oui                                                         \n",
       "  personnalisation.de.la.messagerie importance.de.l.ergonomie\n",
       "1 Non                               Relativement importante  \n",
       "2 Oui                               Très importante          \n",
       "3 Non                               Relativement importante  \n",
       "4 Oui                               Relativement importante  \n",
       "5 Non                               Relativement importante  \n",
       "6 Non                               Pas tellement importante \n",
       "  sentiment.envers.de.zéro.inbox autre.fonctionnalité.de.la.boite.mail\n",
       "1 Marquer tout en lu             Non, j'ai d'autres outils pour ça    \n",
       "2 Lire tous les mails            Oui, souvent                         \n",
       "3 Marquer tout en lu             Non, j'ai d'autres outils pour ça    \n",
       "4 Marquer tout en lu             Oui, parfois                         \n",
       "5 Marquer tout en lu             Non, j'ai d'autres outils pour ça    \n",
       "6 Avoir 10.000 mails non lus     Oui, parfois                         \n",
       "  new_statut\n",
       "1 Etudiant  \n",
       "2 Personnel \n",
       "3 Etudiant  \n",
       "4 Etudiant  \n",
       "5 Personnel \n",
       "6 Personnel "
      ]
     },
     "metadata": {},
     "output_type": "display_data"
    },
    {
     "name": "stderr",
     "output_type": "stream",
     "text": [
      "The following objects are masked from df (pos = 3):\n",
      "\n",
      "    age, appareil.préféré.de.consultation,\n",
      "    autre.fonctionnalité.de.la.boite.mail, concerné,\n",
      "    consultation.de.mails.en.dehors.des.heures.de.travail.études,\n",
      "    expérience.professionnelle,\n",
      "    fréquence.de.consultation.de.la.messagerie,\n",
      "    importance.de.l.ergonomie, lecture.de.l.objet.expéditeur,\n",
      "    lecture.de.tous.les.mails, nombre.de.boites.mail,\n",
      "    nombre.de.mails.envoyés.par.semaine, nombre.de.mails.non.lus,\n",
      "    nombre.de.mails.reçus.par.jour,\n",
      "    nombre.de.messagerie.consultées.régulièrement,\n",
      "    notification.de.mails, personnalisation.de.la.messagerie,\n",
      "    réponse.à.des.mails.nécessitant.une.réponse,\n",
      "    sentiment.envers.de.zéro.inbox, statut,\n",
      "    temps.passé.moyen.sur.internet, X\n",
      "\n"
     ]
    }
   ],
   "source": [
    "c1 <- c(\"1A\",\"2A\",\"3A\",\"Master\",\"Césure\",\"Autre\")\n",
    "c2 <- c(\"Enseignant\",\"Personnel Administratif\")\n",
    "df$new_statut[df$statut %in% c1] <- \"Etudiant\"\n",
    "df$new_statut[df$statut %in% c2] <- \"Personnel\"\n",
    "head(df)\n",
    "attach(df)"
   ]
  },
  {
   "cell_type": "markdown",
   "metadata": {},
   "source": [
    "# Statut et temps de connexion par jour"
   ]
  },
  {
   "cell_type": "code",
   "execution_count": 4,
   "metadata": {},
   "outputs": [
    {
     "name": "stderr",
     "output_type": "stream",
     "text": [
      "\n",
      "Attaching package: 'dplyr'\n",
      "\n",
      "The following objects are masked from 'package:stats':\n",
      "\n",
      "    filter, lag\n",
      "\n",
      "The following objects are masked from 'package:base':\n",
      "\n",
      "    intersect, setdiff, setequal, union\n",
      "\n"
     ]
    }
   ],
   "source": [
    "library(dplyr)\n",
    "df7 <- df %>% \n",
    "  group_by(statut  ,new_statut) %>% \n",
    "  summarise(count=n()) %>% \n",
    "  mutate(perc=count/sum(count))"
   ]
  },
  {
   "cell_type": "code",
   "execution_count": 5,
   "metadata": {},
   "outputs": [
    {
     "data": {
      "text/html": [
       "<table>\n",
       "<thead><tr><th scope=col>statut</th><th scope=col>new_statut</th><th scope=col>count</th><th scope=col>perc</th></tr></thead>\n",
       "<tbody>\n",
       "\t<tr><td>1A                     </td><td>Etudiant               </td><td>94                     </td><td>1                      </td></tr>\n",
       "\t<tr><td>2A                     </td><td>Etudiant               </td><td>74                     </td><td>1                      </td></tr>\n",
       "\t<tr><td>3A                     </td><td>Etudiant               </td><td>89                     </td><td>1                      </td></tr>\n",
       "\t<tr><td>Autre                  </td><td>Etudiant               </td><td>37                     </td><td>1                      </td></tr>\n",
       "\t<tr><td>Césure                 </td><td>Etudiant               </td><td>12                     </td><td>1                      </td></tr>\n",
       "\t<tr><td>Enseignant             </td><td>Personnel              </td><td>33                     </td><td>1                      </td></tr>\n",
       "\t<tr><td>Master                 </td><td>Etudiant               </td><td>27                     </td><td>1                      </td></tr>\n",
       "\t<tr><td>Personnel Administratif</td><td>Personnel              </td><td>34                     </td><td>1                      </td></tr>\n",
       "</tbody>\n",
       "</table>\n"
      ],
      "text/latex": [
       "\\begin{tabular}{r|llll}\n",
       " statut & new\\_statut & count & perc\\\\\n",
       "\\hline\n",
       "\t 1A                      & Etudiant                & 94                      & 1                      \\\\\n",
       "\t 2A                      & Etudiant                & 74                      & 1                      \\\\\n",
       "\t 3A                      & Etudiant                & 89                      & 1                      \\\\\n",
       "\t Autre                   & Etudiant                & 37                      & 1                      \\\\\n",
       "\t Césure                  & Etudiant                & 12                      & 1                      \\\\\n",
       "\t Enseignant              & Personnel               & 33                      & 1                      \\\\\n",
       "\t Master                  & Etudiant                & 27                      & 1                      \\\\\n",
       "\t Personnel Administratif & Personnel               & 34                      & 1                      \\\\\n",
       "\\end{tabular}\n"
      ],
      "text/markdown": [
       "\n",
       "statut | new_statut | count | perc | \n",
       "|---|---|---|---|---|---|---|---|\n",
       "| 1A                      | Etudiant                | 94                      | 1                       | \n",
       "| 2A                      | Etudiant                | 74                      | 1                       | \n",
       "| 3A                      | Etudiant                | 89                      | 1                       | \n",
       "| Autre                   | Etudiant                | 37                      | 1                       | \n",
       "| Césure                  | Etudiant                | 12                      | 1                       | \n",
       "| Enseignant              | Personnel               | 33                      | 1                       | \n",
       "| Master                  | Etudiant                | 27                      | 1                       | \n",
       "| Personnel Administratif | Personnel               | 34                      | 1                       | \n",
       "\n",
       "\n"
      ],
      "text/plain": [
       "  statut                  new_statut count perc\n",
       "1 1A                      Etudiant   94    1   \n",
       "2 2A                      Etudiant   74    1   \n",
       "3 3A                      Etudiant   89    1   \n",
       "4 Autre                   Etudiant   37    1   \n",
       "5 Césure                  Etudiant   12    1   \n",
       "6 Enseignant              Personnel  33    1   \n",
       "7 Master                  Etudiant   27    1   \n",
       "8 Personnel Administratif Personnel  34    1   "
      ]
     },
     "metadata": {},
     "output_type": "display_data"
    }
   ],
   "source": [
    "df7"
   ]
  },
  {
   "cell_type": "code",
   "execution_count": 6,
   "metadata": {},
   "outputs": [
    {
     "name": "stderr",
     "output_type": "stream",
     "text": [
      "Loading required package: ggplot2\n",
      "Loading required package: magrittr\n"
     ]
    },
    {
     "data": {},
     "metadata": {},
     "output_type": "display_data"
    },
    {
     "data": {
      "image/png": "[encoded data removed]",
      "text/plain": [
       "plot without title"
      ]
     },
     "metadata": {},
     "output_type": "display_data"
    }
   ],
   "source": [
    "# Plot weight by group and color by group\n",
    "library(\"ggpubr\")\n",
    "library(\"ggplot2\")\n",
    "ggboxplot(df, x = \"new_statut\", y = \"temps.passé.moyen.sur.internet\", color = \"new_statut\", ylab = \"Temps de connexion par jour\"\n",
    "          , xlab = \"Groups\")"
   ]
  },
  {
   "cell_type": "markdown",
   "metadata": {},
   "source": [
    "## Shapiro test for normality of two samples (students and teachers)"
   ]
  },
  {
   "cell_type": "code",
   "execution_count": 7,
   "metadata": {},
   "outputs": [
    {
     "data": {
      "text/plain": [
       "\n",
       "\tShapiro-Wilk normality test\n",
       "\n",
       "data:  df[which(new_statut == \"Etudiant\"), ]$temps.passé.moyen.sur.internet\n",
       "W = 0.93987, p-value = 2.262e-10\n"
      ]
     },
     "metadata": {},
     "output_type": "display_data"
    },
    {
     "data": {
      "text/plain": [
       "\n",
       "\tShapiro-Wilk normality test\n",
       "\n",
       "data:  df[which(new_statut == \"Personnel\"), ]$temps.passé.moyen.sur.internet\n",
       "W = 0.90975, p-value = 0.000135\n"
      ]
     },
     "metadata": {},
     "output_type": "display_data"
    }
   ],
   "source": [
    "shapiro.test(df[which(new_statut==\"Etudiant\"),]$temps.passé.moyen.sur.internet)\n",
    "shapiro.test(df[which(new_statut==\"Personnel\"),]$temps.passé.moyen.sur.internet)\n",
    "\n",
    "#shapiro.test(temps.passé.moyen.sur.internet~new_statut, data=subset(df, new_statut %in% c(\"Etudiant\",\"Personnel\") ))"
   ]
  },
  {
   "cell_type": "markdown",
   "metadata": {},
   "source": [
    "## on  rejette l'hypothèse nulle de normalité, on applique wilcoxon"
   ]
  },
  {
   "cell_type": "code",
   "execution_count": 8,
   "metadata": {},
   "outputs": [
    {
     "data": {
      "text/plain": [
       "\n",
       "\tWilcoxon rank sum test with continuity correction\n",
       "\n",
       "data:  temps.passé.moyen.sur.internet by new_statut\n",
       "W = 14111, p-value = 0.0005419\n",
       "alternative hypothesis: true location shift is not equal to 0\n"
      ]
     },
     "metadata": {},
     "output_type": "display_data"
    }
   ],
   "source": [
    "wilcox.test(temps.passé.moyen.sur.internet~new_statut, data = df)"
   ]
  },
  {
   "cell_type": "markdown",
   "metadata": {},
   "source": [
    "#### p-value = 0.00054 qui est très petite par rapport à 5%, on rejette l'hypotjèse nulle. Le temps moyen passé sur internet dépend du statut"
   ]
  },
  {
   "cell_type": "code",
   "execution_count": 9,
   "metadata": {},
   "outputs": [
    {
     "data": {
      "text/plain": [
       "\n",
       "\tWilcoxon rank sum test with continuity correction\n",
       "\n",
       "data:  df[which(new_statut == \"Etudiant\"), ]$temps.passé.moyen.sur.internet and df[which(new_statut == \"Personnel\"), ]$temps.passé.moyen.sur.internet\n",
       "W = 14111, p-value = 0.000271\n",
       "alternative hypothesis: true location shift is greater than 0\n"
      ]
     },
     "metadata": {},
     "output_type": "display_data"
    }
   ],
   "source": [
    "#wilcox.test(temps.passé.moyen.sur.internet~new_statut, data = df, alternative = \"greater\")\n",
    "wilcox.test(df[which(new_statut==\"Etudiant\"),]$temps.passé.moyen.sur.internet, \n",
    "            df[which(new_statut==\"Personnel\"),]$temps.passé.moyen.sur.internet, alternative = \"greater\" )\n"
   ]
  },
  {
   "cell_type": "markdown",
   "metadata": {},
   "source": [
    "#### L'hypothèse nullle est rejetée, on garde l'hypothèse alternative qui est moyenne (etudiant) > moyenne (personnel)"
   ]
  },
  {
   "cell_type": "markdown",
   "metadata": {},
   "source": [
    "# notifications et mails non lus"
   ]
  },
  {
   "cell_type": "markdown",
   "metadata": {},
   "source": [
    "### Test de normalité"
   ]
  },
  {
   "cell_type": "code",
   "execution_count": 10,
   "metadata": {},
   "outputs": [
    {
     "data": {
      "text/plain": [
       "\n",
       "\tShapiro-Wilk normality test\n",
       "\n",
       "data:  df[which(notification.de.mails == \"Oui\"), ]$nombre.de.mails.non.lus\n",
       "W = 0.23947, p-value < 2.2e-16\n"
      ]
     },
     "metadata": {},
     "output_type": "display_data"
    },
    {
     "data": {
      "text/plain": [
       "\n",
       "\tShapiro-Wilk normality test\n",
       "\n",
       "data:  df[which(notification.de.mails == \"Non\"), ]$nombre.de.mails.non.lus\n",
       "W = 0.24557, p-value < 2.2e-16\n"
      ]
     },
     "metadata": {},
     "output_type": "display_data"
    }
   ],
   "source": [
    "shapiro.test(df[which(notification.de.mails==\"Oui\"),]$nombre.de.mails.non.lus)\n",
    "shapiro.test(df[which(notification.de.mails==\"Non\"),]$nombre.de.mails.non.lus)\n"
   ]
  },
  {
   "cell_type": "markdown",
   "metadata": {},
   "source": [
    "#### les deux distributions ne suivent pas une loi normale, on applique un test de wilcoxon"
   ]
  },
  {
   "cell_type": "code",
   "execution_count": 11,
   "metadata": {},
   "outputs": [
    {
     "data": {},
     "metadata": {},
     "output_type": "display_data"
    },
    {
     "data": {
      "image/png": "[encoded data removed]",
      "text/plain": [
       "plot without title"
      ]
     },
     "metadata": {},
     "output_type": "display_data"
    }
   ],
   "source": [
    "ggboxplot(df, x = \"notification.de.mails\", y = \"nombre.de.mails.non.lus\", color = \"notification.de.mails\", \n",
    "          ylab = \"NB mails non lus\" , xlab = \"Notifications\")"
   ]
  },
  {
   "cell_type": "code",
   "execution_count": 12,
   "metadata": {},
   "outputs": [
    {
     "data": {
      "text/plain": [
       "\n",
       "\tWilcoxon rank sum test with continuity correction\n",
       "\n",
       "data:  nombre.de.mails.non.lus by notification.de.mails\n",
       "W = 19010, p-value = 0.9518\n",
       "alternative hypothesis: true location shift is not equal to 0\n"
      ]
     },
     "metadata": {},
     "output_type": "display_data"
    }
   ],
   "source": [
    "wilcox.test(nombre.de.mails.non.lus~notification.de.mails, data = df, alternative = \"two.sided\")"
   ]
  },
  {
   "cell_type": "code",
   "execution_count": 13,
   "metadata": {},
   "outputs": [
    {
     "data": {
      "text/html": [
       "311.802469135802"
      ],
      "text/latex": [
       "311.802469135802"
      ],
      "text/markdown": [
       "311.802469135802"
      ],
      "text/plain": [
       "[1] 311.8025"
      ]
     },
     "metadata": {},
     "output_type": "display_data"
    },
    {
     "data": {
      "text/html": [
       "480.554140127389"
      ],
      "text/latex": [
       "480.554140127389"
      ],
      "text/markdown": [
       "480.554140127389"
      ],
      "text/plain": [
       "[1] 480.5541"
      ]
     },
     "metadata": {},
     "output_type": "display_data"
    }
   ],
   "source": [
    "mean(df[which(notification.de.mails==\"Oui\"),]$nombre.de.mails.non.lus)\n",
    "mean(df[which(notification.de.mails==\"Non\"),]$nombre.de.mails.non.lus)"
   ]
  },
  {
   "cell_type": "markdown",
   "metadata": {},
   "source": [
    "# ANOVA"
   ]
  },
  {
   "cell_type": "markdown",
   "metadata": {},
   "source": [
    "## Expérience et nombre de mails envoyés"
   ]
  },
  {
   "cell_type": "code",
   "execution_count": 14,
   "metadata": {},
   "outputs": [],
   "source": [
    "df$expérience.professionnelle <- ordered(df$expérience.professionnelle, levels=c(\"Sans Expérience\",\"Entre 1 et 6 mois\",\"Expérience > 6 mois\",\"Ça se compte en années\"))"
   ]
  },
  {
   "cell_type": "code",
   "execution_count": 15,
   "metadata": {},
   "outputs": [
    {
     "data": {
      "text/html": [
       "<table>\n",
       "<thead><tr><th scope=col>expérience.professionnelle</th><th scope=col>count</th><th scope=col>mean</th><th scope=col>sd</th></tr></thead>\n",
       "<tbody>\n",
       "\t<tr><td>Sans Expérience       </td><td> 87                   </td><td> 4.298851             </td><td> 4.670827             </td></tr>\n",
       "\t<tr><td>Entre 1 et 6 mois     </td><td>122                   </td><td> 6.745902             </td><td> 8.086885             </td></tr>\n",
       "\t<tr><td><span style=white-space:pre-wrap>Expérience &gt; 6 mois   </span></td><td> 75                                                              </td><td> 8.960000                                                        </td><td>11.286730                                                        </td></tr>\n",
       "\t<tr><td>Ça se compte en années</td><td>116                   </td><td>47.224138             </td><td>54.981908             </td></tr>\n",
       "</tbody>\n",
       "</table>\n"
      ],
      "text/latex": [
       "\\begin{tabular}{r|llll}\n",
       " expérience.professionnelle & count & mean & sd\\\\\n",
       "\\hline\n",
       "\t Sans Expérience        &  87                    &  4.298851              &  4.670827             \\\\\n",
       "\t Entre 1 et 6 mois      & 122                    &  6.745902              &  8.086885             \\\\\n",
       "\t Expérience > 6 mois    &  75                    &  8.960000              & 11.286730             \\\\\n",
       "\t Ça se compte en années & 116                    & 47.224138              & 54.981908             \\\\\n",
       "\\end{tabular}\n"
      ],
      "text/markdown": [
       "\n",
       "expérience.professionnelle | count | mean | sd | \n",
       "|---|---|---|---|\n",
       "| Sans Expérience        |  87                    |  4.298851              |  4.670827              | \n",
       "| Entre 1 et 6 mois      | 122                    |  6.745902              |  8.086885              | \n",
       "| Expérience > 6 mois    |  75                    |  8.960000              | 11.286730              | \n",
       "| Ça se compte en années | 116                    | 47.224138              | 54.981908              | \n",
       "\n",
       "\n"
      ],
      "text/plain": [
       "  expérience.professionnelle count mean      sd       \n",
       "1 Sans Expérience             87    4.298851  4.670827\n",
       "2 Entre 1 et 6 mois          122    6.745902  8.086885\n",
       "3 Expérience > 6 mois         75    8.960000 11.286730\n",
       "4 Ça se compte en années     116   47.224138 54.981908"
      ]
     },
     "metadata": {},
     "output_type": "display_data"
    }
   ],
   "source": [
    "library(dplyr)\n",
    "group_by(df, expérience.professionnelle) %>%\n",
    "  summarise(\n",
    "    count = n(),\n",
    "    mean = mean(nombre.de.mails.envoyés.par.semaine, na.rm = TRUE),\n",
    "    sd = sd(nombre.de.mails.envoyés.par.semaine, na.rm = TRUE)\n",
    "  )\n"
   ]
  },
  {
   "cell_type": "code",
   "execution_count": 16,
   "metadata": {},
   "outputs": [
    {
     "data": {},
     "metadata": {},
     "output_type": "display_data"
    },
    {
     "data": {
      "image/png": "[encoded data removed]",
      "text/plain": [
       "plot without title"
      ]
     },
     "metadata": {},
     "output_type": "display_data"
    }
   ],
   "source": [
    "ggboxplot(df, x = \"expérience.professionnelle\", y = \"nombre.de.mails.envoyés.par.semaine\", \n",
    "          color = \"expérience.professionnelle\", \n",
    "          order = c(\"Sans Expérience\",\"Entre 1 et 6 mois\",\"Expérience > 6 mois\",\"Ça se compte en années\"),\n",
    "          ylab = \"Nb mails envoyés\", xlab = \"Expérience professionnelle\")"
   ]
  },
  {
   "cell_type": "code",
   "execution_count": 17,
   "metadata": {},
   "outputs": [
    {
     "data": {
      "text/plain": [
       "                            Df Sum Sq Mean Sq F value Pr(>F)    \n",
       "expérience.professionnelle   3 136929   45643   49.27 <2e-16 ***\n",
       "Residuals                  396 366862     926                   \n",
       "---\n",
       "Signif. codes:  0 '***' 0.001 '**' 0.01 '*' 0.05 '.' 0.1 ' ' 1"
      ]
     },
     "metadata": {},
     "output_type": "display_data"
    }
   ],
   "source": [
    "# Compute the analysis of variance\n",
    "res.aov <- aov(nombre.de.mails.envoyés.par.semaine ~ expérience.professionnelle, data = df)\n",
    "# Summary of the analysis\n",
    "summary(res.aov)"
   ]
  },
  {
   "cell_type": "markdown",
   "metadata": {},
   "source": [
    "### Interpret the result of one-way ANOVA tests\n",
    "#### As the p-value is less than the significance level 0.05, we can conclude that there are significant differences between the groups highlighted with “*\" in the model summary.\n",
    "\n",
    "### Multiple pairwise-comparison between the means of groups\n",
    "#### In one-way ANOVA test, a significant p-value indicates that some of the group means are different, but we don’t know which pairs of groups are different.\n",
    "\n",
    "#### It’s possible to perform multiple pairwise-comparison, to determine if the mean difference between specific pairs of group are statistically significant.\n",
    "\n",
    "### Tukey multiple pairwise-comparisons\n",
    "#### As the ANOVA test is significant, we can compute Tukey HSD (Tukey Honest Significant Differences, R function: TukeyHSD()) for performing multiple pairwise-comparison between the means of groups.\n",
    "\n",
    "#### The function TukeyHD() takes the fitted ANOVA as an argument."
   ]
  },
  {
   "cell_type": "code",
   "execution_count": 18,
   "metadata": {},
   "outputs": [
    {
     "data": {
      "text/plain": [
       "  Tukey multiple comparisons of means\n",
       "    95% family-wise confidence level\n",
       "\n",
       "Fit: aov(formula = nombre.de.mails.envoyés.par.semaine ~ expérience.professionnelle, data = df)\n",
       "\n",
       "$expérience.professionnelle\n",
       "                                                diff       lwr      upr\n",
       "Entre 1 et 6 mois-Sans Expérience           2.447051 -8.572216 13.46632\n",
       "Expérience > 6 mois-Sans Expérience         4.661149 -7.712174 17.03447\n",
       "Ça se compte en années-Sans Expérience     42.925287 31.788023 54.06255\n",
       "Expérience > 6 mois-Entre 1 et 6 mois       2.214098 -9.308268 13.73646\n",
       "Ça se compte en années-Entre 1 et 6 mois   40.478236 30.294698 50.66177\n",
       "Ça se compte en années-Expérience > 6 mois 38.264138 26.628876 49.89940\n",
       "                                               p adj\n",
       "Entre 1 et 6 mois-Sans Expérience          0.9401154\n",
       "Expérience > 6 mois-Sans Expérience        0.7655355\n",
       "Ça se compte en années-Sans Expérience     0.0000000\n",
       "Expérience > 6 mois-Entre 1 et 6 mois      0.9600037\n",
       "Ça se compte en années-Entre 1 et 6 mois   0.0000000\n",
       "Ça se compte en années-Expérience > 6 mois 0.0000000\n"
      ]
     },
     "metadata": {},
     "output_type": "display_data"
    }
   ],
   "source": [
    "TukeyHSD(res.aov)"
   ]
  },
  {
   "cell_type": "markdown",
   "metadata": {},
   "source": [
    "# KHI 2"
   ]
  },
  {
   "cell_type": "markdown",
   "metadata": {},
   "source": [
    "## Consultation en dehors du service et  statut"
   ]
  },
  {
   "cell_type": "markdown",
   "metadata": {},
   "source": [
    "### contingency table"
   ]
  },
  {
   "cell_type": "code",
   "execution_count": 19,
   "metadata": {},
   "outputs": [],
   "source": [
    "df$consultation.de.mails.en.dehors.des.heures.de.travail.études<-as.character(df$consultation.de.mails.en.dehors.des.heures.de.travail.études)\n",
    "df$consultation.de.mails.en.dehors.des.heures.de.travail.études[df$consultation.de.mails.en.dehors.des.heures.de.travail.études==\"oui\"] <- \"Oui\""
   ]
  },
  {
   "cell_type": "code",
   "execution_count": 20,
   "metadata": {},
   "outputs": [],
   "source": [
    "c_table <- table(df$statut, df$consultation.de.mails.en.dehors.des.heures.de.travail.études)"
   ]
  },
  {
   "cell_type": "code",
   "execution_count": 33,
   "metadata": {},
   "outputs": [
    {
     "data": {
      "image/png": "[encoded data removed]",
      "text/plain": [
       "Plot with title \"Contingency table (statut & Consultation)\""
      ]
     },
     "metadata": {},
     "output_type": "display_data"
    }
   ],
   "source": [
    "library(\"gplots\")\n",
    "# 1. convert the data as a table\n",
    "# 2. Graph\n",
    "balloonplot(t(c_table), main =\"Contingency table (statut & Consultation)\", xlab =\"Consultation dehors le service\", ylab=\"Statut\",\n",
    "            label = FALSE, show.margins = FALSE)"
   ]
  },
  {
   "cell_type": "markdown",
   "metadata": {},
   "source": [
    "### chi 2 test"
   ]
  },
  {
   "cell_type": "code",
   "execution_count": 22,
   "metadata": {},
   "outputs": [
    {
     "name": "stderr",
     "output_type": "stream",
     "text": [
      "Warning message in chisq.test(c_table):\n",
      "\"Chi-squared approximation may be incorrect\""
     ]
    },
    {
     "data": {
      "text/plain": [
       "\n",
       "\tPearson's Chi-squared test\n",
       "\n",
       "data:  c_table\n",
       "X-squared = 58.581, df = 14, p-value = 2.077e-07\n"
      ]
     },
     "metadata": {},
     "output_type": "display_data"
    }
   ],
   "source": [
    "chisq.test(c_table)"
   ]
  },
  {
   "cell_type": "markdown",
   "metadata": {},
   "source": [
    "In our example, the row and the column variables are statistically significantly associated (p-value = 0). They are statistically dependant\n"
   ]
  },
  {
   "cell_type": "markdown",
   "metadata": {},
   "source": [
    "## Appareil de consultation VS lecture de tous les mails"
   ]
  },
  {
   "cell_type": "code",
   "execution_count": 23,
   "metadata": {},
   "outputs": [
    {
     "data": {
      "text/html": [
       "<ol class=list-inline>\n",
       "\t<li>'X'</li>\n",
       "\t<li>'statut'</li>\n",
       "\t<li>'age'</li>\n",
       "\t<li>'expérience.professionnelle'</li>\n",
       "\t<li>'temps.passé.moyen.sur.internet'</li>\n",
       "\t<li>'appareil.préféré.de.consultation'</li>\n",
       "\t<li>'nombre.de.boites.mail'</li>\n",
       "\t<li>'nombre.de.messagerie.consultées.régulièrement'</li>\n",
       "\t<li>'fréquence.de.consultation.de.la.messagerie'</li>\n",
       "\t<li>'nombre.de.mails.reçus.par.jour'</li>\n",
       "\t<li>'concerné'</li>\n",
       "\t<li>'notification.de.mails'</li>\n",
       "\t<li>'lecture.de.tous.les.mails'</li>\n",
       "\t<li>'lecture.de.l.objet.expéditeur'</li>\n",
       "\t<li>'nombre.de.mails.non.lus'</li>\n",
       "\t<li>'nombre.de.mails.envoyés.par.semaine'</li>\n",
       "\t<li>'réponse.à.des.mails.nécessitant.une.réponse'</li>\n",
       "\t<li>'consultation.de.mails.en.dehors.des.heures.de.travail.études'</li>\n",
       "\t<li>'personnalisation.de.la.messagerie'</li>\n",
       "\t<li>'importance.de.l.ergonomie'</li>\n",
       "\t<li>'sentiment.envers.de.zéro.inbox'</li>\n",
       "\t<li>'autre.fonctionnalité.de.la.boite.mail'</li>\n",
       "\t<li>'new_statut'</li>\n",
       "</ol>\n"
      ],
      "text/latex": [
       "\\begin{enumerate*}\n",
       "\\item 'X'\n",
       "\\item 'statut'\n",
       "\\item 'age'\n",
       "\\item 'expérience.professionnelle'\n",
       "\\item 'temps.passé.moyen.sur.internet'\n",
       "\\item 'appareil.préféré.de.consultation'\n",
       "\\item 'nombre.de.boites.mail'\n",
       "\\item 'nombre.de.messagerie.consultées.régulièrement'\n",
       "\\item 'fréquence.de.consultation.de.la.messagerie'\n",
       "\\item 'nombre.de.mails.reçus.par.jour'\n",
       "\\item 'concerné'\n",
       "\\item 'notification.de.mails'\n",
       "\\item 'lecture.de.tous.les.mails'\n",
       "\\item 'lecture.de.l.objet.expéditeur'\n",
       "\\item 'nombre.de.mails.non.lus'\n",
       "\\item 'nombre.de.mails.envoyés.par.semaine'\n",
       "\\item 'réponse.à.des.mails.nécessitant.une.réponse'\n",
       "\\item 'consultation.de.mails.en.dehors.des.heures.de.travail.études'\n",
       "\\item 'personnalisation.de.la.messagerie'\n",
       "\\item 'importance.de.l.ergonomie'\n",
       "\\item 'sentiment.envers.de.zéro.inbox'\n",
       "\\item 'autre.fonctionnalité.de.la.boite.mail'\n",
       "\\item 'new\\_statut'\n",
       "\\end{enumerate*}\n"
      ],
      "text/markdown": [
       "1. 'X'\n",
       "2. 'statut'\n",
       "3. 'age'\n",
       "4. 'expérience.professionnelle'\n",
       "5. 'temps.passé.moyen.sur.internet'\n",
       "6. 'appareil.préféré.de.consultation'\n",
       "7. 'nombre.de.boites.mail'\n",
       "8. 'nombre.de.messagerie.consultées.régulièrement'\n",
       "9. 'fréquence.de.consultation.de.la.messagerie'\n",
       "10. 'nombre.de.mails.reçus.par.jour'\n",
       "11. 'concerné'\n",
       "12. 'notification.de.mails'\n",
       "13. 'lecture.de.tous.les.mails'\n",
       "14. 'lecture.de.l.objet.expéditeur'\n",
       "15. 'nombre.de.mails.non.lus'\n",
       "16. 'nombre.de.mails.envoyés.par.semaine'\n",
       "17. 'réponse.à.des.mails.nécessitant.une.réponse'\n",
       "18. 'consultation.de.mails.en.dehors.des.heures.de.travail.études'\n",
       "19. 'personnalisation.de.la.messagerie'\n",
       "20. 'importance.de.l.ergonomie'\n",
       "21. 'sentiment.envers.de.zéro.inbox'\n",
       "22. 'autre.fonctionnalité.de.la.boite.mail'\n",
       "23. 'new_statut'\n",
       "\n",
       "\n"
      ],
      "text/plain": [
       " [1] \"X\"                                                           \n",
       " [2] \"statut\"                                                      \n",
       " [3] \"age\"                                                         \n",
       " [4] \"expérience.professionnelle\"                                  \n",
       " [5] \"temps.passé.moyen.sur.internet\"                              \n",
       " [6] \"appareil.préféré.de.consultation\"                            \n",
       " [7] \"nombre.de.boites.mail\"                                       \n",
       " [8] \"nombre.de.messagerie.consultées.régulièrement\"               \n",
       " [9] \"fréquence.de.consultation.de.la.messagerie\"                  \n",
       "[10] \"nombre.de.mails.reçus.par.jour\"                              \n",
       "[11] \"concerné\"                                                    \n",
       "[12] \"notification.de.mails\"                                       \n",
       "[13] \"lecture.de.tous.les.mails\"                                   \n",
       "[14] \"lecture.de.l.objet.expéditeur\"                               \n",
       "[15] \"nombre.de.mails.non.lus\"                                     \n",
       "[16] \"nombre.de.mails.envoyés.par.semaine\"                         \n",
       "[17] \"réponse.à.des.mails.nécessitant.une.réponse\"                 \n",
       "[18] \"consultation.de.mails.en.dehors.des.heures.de.travail.études\"\n",
       "[19] \"personnalisation.de.la.messagerie\"                           \n",
       "[20] \"importance.de.l.ergonomie\"                                   \n",
       "[21] \"sentiment.envers.de.zéro.inbox\"                              \n",
       "[22] \"autre.fonctionnalité.de.la.boite.mail\"                       \n",
       "[23] \"new_statut\"                                                  "
      ]
     },
     "metadata": {},
     "output_type": "display_data"
    }
   ],
   "source": [
    "names(df)"
   ]
  },
  {
   "cell_type": "markdown",
   "metadata": {},
   "source": [
    "### contingency table"
   ]
  },
  {
   "cell_type": "code",
   "execution_count": 28,
   "metadata": {},
   "outputs": [],
   "source": [
    "c_table2 <- table(df$appareil.préféré.de.consultation, df$lecture.de.tous.les.mails)"
   ]
  },
  {
   "cell_type": "code",
   "execution_count": 29,
   "metadata": {},
   "outputs": [
    {
     "data": {
      "image/png": "[encoded data removed]",
      "text/plain": [
       "Plot with title \"Contingency table (Appareil & lecture de tous les mails)\""
      ]
     },
     "metadata": {},
     "output_type": "display_data"
    }
   ],
   "source": [
    "balloonplot(t(c_table2), main =\"Contingency table (Appareil & lecture de tous les mails)\", xlab =\"Lecture\", ylab=\"Appareil\",\n",
    "            label = FALSE, show.margins = FALSE)"
   ]
  },
  {
   "cell_type": "markdown",
   "metadata": {},
   "source": [
    "### Chi 2"
   ]
  },
  {
   "cell_type": "code",
   "execution_count": 30,
   "metadata": {},
   "outputs": [
    {
     "name": "stderr",
     "output_type": "stream",
     "text": [
      "Warning message in chisq.test(c_table2):\n",
      "\"Chi-squared approximation may be incorrect\""
     ]
    },
    {
     "data": {
      "text/plain": [
       "\n",
       "\tPearson's Chi-squared test\n",
       "\n",
       "data:  c_table2\n",
       "X-squared = 6.4431, df = 6, p-value = 0.3754\n"
      ]
     },
     "metadata": {},
     "output_type": "display_data"
    }
   ],
   "source": [
    "chisq.test(c_table2)"
   ]
  },
  {
   "cell_type": "markdown",
   "metadata": {},
   "source": [
    "the row and the column variables aren't statistically associated (p-value = 0.37). They are statistically independant\n"
   ]
  },
  {
   "cell_type": "markdown",
   "metadata": {},
   "source": [
    "## Lecture de l'objet et l'expéditeur est liée au téléphone"
   ]
  },
  {
   "cell_type": "code",
   "execution_count": 34,
   "metadata": {},
   "outputs": [],
   "source": [
    "c_table3 <- table(df$appareil.préféré.de.consultation, df$lecture.de.l.objet.expéditeur)"
   ]
  },
  {
   "cell_type": "code",
   "execution_count": 35,
   "metadata": {},
   "outputs": [
    {
     "name": "stderr",
     "output_type": "stream",
     "text": [
      "Warning message in chisq.test(c_table3):\n",
      "\"Chi-squared approximation may be incorrect\""
     ]
    },
    {
     "data": {
      "text/plain": [
       "\n",
       "\tPearson's Chi-squared test\n",
       "\n",
       "data:  c_table3\n",
       "X-squared = 2.4581, df = 3, p-value = 0.4829\n"
      ]
     },
     "metadata": {},
     "output_type": "display_data"
    }
   ],
   "source": [
    "chisq.test(c_table3)"
   ]
  },
  {
   "cell_type": "markdown",
   "metadata": {},
   "source": [
    "On accepte H0, l'indépendance des variables. Lecture de l'objet/expéditeur n'est pas lié à l'appareil"
   ]
  },
  {
   "cell_type": "code",
   "execution_count": 39,
   "metadata": {},
   "outputs": [
    {
     "data": {
      "image/png": "[encoded data removed]",
      "text/plain": [
       "Plot with title \"Contingency table (Appareil & Lecture de l'objet )\""
      ]
     },
     "metadata": {},
     "output_type": "display_data"
    }
   ],
   "source": [
    "balloonplot(t(c_table3), main =\"Contingency table (Appareil & Lecture de l'objet )\", xlab =\"Objet & expéditeur\", ylab=\"Appareil\",\n",
    "            label = FALSE, show.margins = FALSE)"
   ]
  },
  {
   "cell_type": "markdown",
   "metadata": {},
   "source": [
    "## Les gens qui consultent par téléphone ont tendance à moins répondre"
   ]
  },
  {
   "cell_type": "markdown",
   "metadata": {},
   "source": [
    "###  Appareil & répondre quand c'est nécessaire"
   ]
  },
  {
   "cell_type": "code",
   "execution_count": 40,
   "metadata": {},
   "outputs": [],
   "source": [
    "c_table4 <- table(df$appareil.préféré.de.consultation, df$réponse.à.des.mails.nécessitant.une.réponse)"
   ]
  },
  {
   "cell_type": "code",
   "execution_count": 41,
   "metadata": {},
   "outputs": [
    {
     "name": "stderr",
     "output_type": "stream",
     "text": [
      "Warning message in chisq.test(c_table4):\n",
      "\"Chi-squared approximation may be incorrect\""
     ]
    },
    {
     "data": {
      "text/plain": [
       "\n",
       "\tPearson's Chi-squared test\n",
       "\n",
       "data:  c_table4\n",
       "X-squared = 4.5278, df = 9, p-value = 0.8734\n"
      ]
     },
     "metadata": {},
     "output_type": "display_data"
    }
   ],
   "source": [
    "chisq.test(c_table4)"
   ]
  },
  {
   "cell_type": "markdown",
   "metadata": {},
   "source": [
    "On accepte H0, l'indépendance des variables. La réponse aux mails quand c nécessaire n'est pas lié à l'appareil. Même les utilisateurs des smartphone répondent si nécessaire"
   ]
  },
  {
   "cell_type": "code",
   "execution_count": 43,
   "metadata": {},
   "outputs": [
    {
     "data": {
      "image/png": "[encoded data removed]",
      "text/plain": [
       "Plot with title \"Contingency table (Appareil & Réponse aux mails nécessaires)\""
      ]
     },
     "metadata": {},
     "output_type": "display_data"
    }
   ],
   "source": [
    "balloonplot(t(c_table4), main =\"Contingency table (Appareil & Réponse aux mails nécessaires)\", xlab =\"Réponse\", ylab=\"Appareil\",\n",
    "            label = FALSE, show.margins = FALSE)"
   ]
  },
  {
   "cell_type": "markdown",
   "metadata": {},
   "source": [
    "## Personnaisation de la boite mail et nb de mails envoyés"
   ]
  },
  {
   "cell_type": "markdown",
   "metadata": {},
   "source": [
    "### Test de normalité"
   ]
  },
  {
   "cell_type": "code",
   "execution_count": 45,
   "metadata": {},
   "outputs": [
    {
     "data": {
      "text/plain": [
       "\n",
       "\tShapiro-Wilk normality test\n",
       "\n",
       "data:  df[which(personnalisation.de.la.messagerie == \"Oui\"), ]$nombre.de.mails.envoyés.par.semaine\n",
       "W = 0.57478, p-value < 2.2e-16\n"
      ]
     },
     "metadata": {},
     "output_type": "display_data"
    },
    {
     "data": {
      "text/plain": [
       "\n",
       "\tShapiro-Wilk normality test\n",
       "\n",
       "data:  df[which(personnalisation.de.la.messagerie == \"Non\"), ]$nombre.de.mails.envoyés.par.semaine\n",
       "W = 0.40099, p-value < 2.2e-16\n"
      ]
     },
     "metadata": {},
     "output_type": "display_data"
    }
   ],
   "source": [
    "shapiro.test(df[which(personnalisation.de.la.messagerie==\"Oui\"),]$nombre.de.mails.envoyés.par.semaine)\n",
    "shapiro.test(df[which(personnalisation.de.la.messagerie==\"Non\"),]$nombre.de.mails.envoyés.par.semaine)"
   ]
  },
  {
   "cell_type": "markdown",
   "metadata": {},
   "source": [
    "### Test de wilcoxon"
   ]
  },
  {
   "cell_type": "code",
   "execution_count": 56,
   "metadata": {},
   "outputs": [
    {
     "data": {
      "text/plain": [
       "\n",
       "\tWilcoxon rank sum test with continuity correction\n",
       "\n",
       "data:  nombre.de.mails.envoyés.par.semaine by personnalisation.de.la.messagerie\n",
       "W = 13286, p-value = 8.088e-09\n",
       "alternative hypothesis: true location shift is less than 0\n"
      ]
     },
     "metadata": {},
     "output_type": "display_data"
    }
   ],
   "source": [
    "wilcox.test(nombre.de.mails.envoyés.par.semaine~personnalisation.de.la.messagerie, data = df, alternative = \"less\")"
   ]
  },
  {
   "cell_type": "code",
   "execution_count": 50,
   "metadata": {},
   "outputs": [
    {
     "data": {
      "text/plain": [
       "\n",
       "\tWilcoxon rank sum test with continuity correction\n",
       "\n",
       "data:  df[which(personnalisation.de.la.messagerie == \"Oui\"), ]$nombre.de.mails.envoyés.par.semaine and df[which(personnalisation.de.la.messagerie == \"Non\"), ]$nombre.de.mails.envoyés.par.semaine\n",
       "W = 26184, p-value = 1\n",
       "alternative hypothesis: true location shift is less than 0\n"
      ]
     },
     "metadata": {},
     "output_type": "display_data"
    }
   ],
   "source": [
    "wilcox.test(df[which(personnalisation.de.la.messagerie==\"Oui\"),]$nombre.de.mails.envoyés.par.semaine, \n",
    "           df[which(personnalisation.de.la.messagerie==\"Non\"),]$nombre.de.mails.envoyés.par.semaine, alternative=\"less\")"
   ]
  },
  {
   "cell_type": "markdown",
   "metadata": {},
   "source": [
    "on voit bien que les moyennes des deux échantillons sont significativement différentes. les gens qui personnalisent leurs messageries envoient bcp de mails."
   ]
  },
  {
   "cell_type": "markdown",
   "metadata": {},
   "source": [
    "## Personnaisation de la boite mail et la fréquence de consultation"
   ]
  },
  {
   "cell_type": "markdown",
   "metadata": {},
   "source": [
    "### KHI2 TEST"
   ]
  },
  {
   "cell_type": "code",
   "execution_count": 58,
   "metadata": {},
   "outputs": [],
   "source": [
    "c_table5 <-table(df$personnalisation.de.la.messagerie, df$fréquence.de.consultation.de.la.messagerie)"
   ]
  },
  {
   "cell_type": "code",
   "execution_count": 60,
   "metadata": {},
   "outputs": [
    {
     "data": {
      "text/plain": [
       "\n",
       "\tPearson's Chi-squared test\n",
       "\n",
       "data:  c_table5\n",
       "X-squared = 20.979, df = 3, p-value = 0.0001063\n"
      ]
     },
     "metadata": {},
     "output_type": "display_data"
    }
   ],
   "source": [
    "chisq.test(c_table5)"
   ]
  },
  {
   "cell_type": "markdown",
   "metadata": {},
   "source": [
    "il y a une dépendance entre la personnalisation de la messagerie et la fréquence de consultation, les gens qui personnalisent on tendance à bcp consulter leurs mails"
   ]
  },
  {
   "cell_type": "code",
   "execution_count": 62,
   "metadata": {},
   "outputs": [
    {
     "data": {
      "image/png": "[encoded data removed]",
      "text/plain": [
       "Plot with title \"Contingency table (Personnalisation  & Consultation)\""
      ]
     },
     "metadata": {},
     "output_type": "display_data"
    }
   ],
   "source": [
    "balloonplot(t(c_table5), main =\"Contingency table (Personnalisation  & Consultation)\", xlab =\"Consultation\", ylab=\"Personnalisation\",\n",
    "            label = FALSE, show.margins = FALSE)"
   ]
  },
  {
   "cell_type": "markdown",
   "metadata": {},
   "source": [
    "## Ergonomie"
   ]
  },
  {
   "cell_type": "markdown",
   "metadata": {},
   "source": [
    "### Ergonomie et lecture de tous les mails"
   ]
  },
  {
   "cell_type": "code",
   "execution_count": 64,
   "metadata": {},
   "outputs": [],
   "source": [
    "c_table6 <- table(df$lecture.de.tous.les.mails, df$importance.de.l.ergonomie)"
   ]
  },
  {
   "cell_type": "code",
   "execution_count": 65,
   "metadata": {},
   "outputs": [
    {
     "name": "stderr",
     "output_type": "stream",
     "text": [
      "Warning message in chisq.test(c_table6):\n",
      "\"Chi-squared approximation may be incorrect\""
     ]
    },
    {
     "data": {
      "text/plain": [
       "\n",
       "\tPearson's Chi-squared test\n",
       "\n",
       "data:  c_table6\n",
       "X-squared = 4.8835, df = 4, p-value = 0.2995\n"
      ]
     },
     "metadata": {},
     "output_type": "display_data"
    }
   ],
   "source": [
    "chisq.test(c_table6)"
   ]
  },
  {
   "cell_type": "markdown",
   "metadata": {},
   "source": [
    "Ergonomie n'est pas liée à la lecture ou non des mails"
   ]
  },
  {
   "cell_type": "markdown",
   "metadata": {},
   "source": [
    "### Ergonomie et autre fonctionnalité"
   ]
  },
  {
   "cell_type": "code",
   "execution_count": 66,
   "metadata": {},
   "outputs": [],
   "source": [
    "c_table7 <- table(df$importance.de.l.ergonomie, df$autre.fonctionnalité.de.la.boite.mail)"
   ]
  },
  {
   "cell_type": "code",
   "execution_count": 67,
   "metadata": {},
   "outputs": [
    {
     "name": "stderr",
     "output_type": "stream",
     "text": [
      "Warning message in chisq.test(c_table7):\n",
      "\"Chi-squared approximation may be incorrect\""
     ]
    },
    {
     "data": {
      "text/plain": [
       "\n",
       "\tPearson's Chi-squared test\n",
       "\n",
       "data:  c_table7\n",
       "X-squared = 7.5809, df = 6, p-value = 0.2704\n"
      ]
     },
     "metadata": {},
     "output_type": "display_data"
    }
   ],
   "source": [
    "chisq.test(c_table7)"
   ]
  },
  {
   "cell_type": "markdown",
   "metadata": {},
   "source": [
    "Ergonomie n'est pas liée à rien"
   ]
  },
  {
   "cell_type": "markdown",
   "metadata": {},
   "source": [
    "### Ergonomie et l'âge"
   ]
  },
  {
   "cell_type": "code",
   "execution_count": 69,
   "metadata": {},
   "outputs": [
    {
     "data": {
      "text/html": [
       "<table>\n",
       "<thead><tr><th scope=col>importance.de.l.ergonomie</th><th scope=col>count</th><th scope=col>mean</th><th scope=col>sd</th></tr></thead>\n",
       "<tbody>\n",
       "\t<tr><td>Pas tellement importante</td><td> 22                     </td><td>26.95455                </td><td>10.812150               </td></tr>\n",
       "\t<tr><td>Relativement importante </td><td>178                     </td><td>25.58989                </td><td> 9.384162               </td></tr>\n",
       "\t<tr><td>Très importante         </td><td>200                     </td><td>26.21500                </td><td> 9.560638               </td></tr>\n",
       "</tbody>\n",
       "</table>\n"
      ],
      "text/latex": [
       "\\begin{tabular}{r|llll}\n",
       " importance.de.l.ergonomie & count & mean & sd\\\\\n",
       "\\hline\n",
       "\t Pas tellement importante &  22                      & 26.95455                 & 10.812150               \\\\\n",
       "\t Relativement importante  & 178                      & 25.58989                 &  9.384162               \\\\\n",
       "\t Très importante          & 200                      & 26.21500                 &  9.560638               \\\\\n",
       "\\end{tabular}\n"
      ],
      "text/markdown": [
       "\n",
       "importance.de.l.ergonomie | count | mean | sd | \n",
       "|---|---|---|\n",
       "| Pas tellement importante |  22                      | 26.95455                 | 10.812150                | \n",
       "| Relativement importante  | 178                      | 25.58989                 |  9.384162                | \n",
       "| Très importante          | 200                      | 26.21500                 |  9.560638                | \n",
       "\n",
       "\n"
      ],
      "text/plain": [
       "  importance.de.l.ergonomie count mean     sd       \n",
       "1 Pas tellement importante   22   26.95455 10.812150\n",
       "2 Relativement importante   178   25.58989  9.384162\n",
       "3 Très importante           200   26.21500  9.560638"
      ]
     },
     "metadata": {},
     "output_type": "display_data"
    }
   ],
   "source": [
    "group_by(df, importance.de.l.ergonomie) %>%\n",
    "  summarise(\n",
    "    count = n(),\n",
    "    mean = mean(age, na.rm = TRUE),\n",
    "    sd = sd(age, na.rm = TRUE)\n",
    "  )"
   ]
  },
  {
   "cell_type": "code",
   "execution_count": 71,
   "metadata": {},
   "outputs": [
    {
     "data": {},
     "metadata": {},
     "output_type": "display_data"
    },
    {
     "data": {
      "image/png": "[encoded data removed]",
      "text/plain": [
       "plot without title"
      ]
     },
     "metadata": {},
     "output_type": "display_data"
    }
   ],
   "source": [
    "ggboxplot(df, x = \"importance.de.l.ergonomie\", y = \"age\", \n",
    "          color = \"importance.de.l.ergonomie\", \n",
    "          order = c(\"Pas tellement importante\",\"Relativement importante\",\"Très importante\"),\n",
    "          ylab = \"Age\", xlab = \"Ergonomie\")"
   ]
  },
  {
   "cell_type": "code",
   "execution_count": 72,
   "metadata": {},
   "outputs": [
    {
     "data": {
      "text/plain": [
       "                           Df Sum Sq Mean Sq F value Pr(>F)\n",
       "importance.de.l.ergonomie   2     59   29.51   0.323  0.724\n",
       "Residuals                 397  36232   91.26               "
      ]
     },
     "metadata": {},
     "output_type": "display_data"
    }
   ],
   "source": [
    "# Compute the analysis of variance\n",
    "res.aov1 <- aov(age ~ importance.de.l.ergonomie, data = df)\n",
    "# Summary of the analysis\n",
    "summary(res.aov1)"
   ]
  },
  {
   "cell_type": "markdown",
   "metadata": {},
   "source": [
    "on s en fout de l ergonomie"
   ]
  },
  {
   "cell_type": "code",
   "execution_count": null,
   "metadata": {},
   "outputs": [],
   "source": []
  },
  {
   "cell_type": "code",
   "execution_count": null,
   "metadata": {},
   "outputs": [],
   "source": []
  }
 ],
 "metadata": {
  "kernelspec": {
   "display_name": "R",
   "language": "R",
   "name": "ir"
  },
  "language_info": {
   "codemirror_mode": "r",
   "file_extension": ".r",
   "mimetype": "text/x-r-source",
   "name": "R",
   "pygments_lexer": "r",
   "version": "3.5.1"
  }
 },
 "nbformat": 4,
 "nbformat_minor": 2
}
