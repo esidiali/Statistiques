{
 "cells": [
  {
   "cell_type": "markdown",
   "metadata": {},
   "source": [
    "# Projet Statistiques"
   ]
  },
  {
   "cell_type": "code",
   "execution_count": 99,
   "metadata": {},
   "outputs": [
    {
     "data": {
      "text/html": [
       "'C:/Users/Etienne Jenner/Documents/3A - Télécom Bretagne/Projet Stats'"
      ],
      "text/latex": [
       "'C:/Users/Etienne Jenner/Documents/3A - Télécom Bretagne/Projet Stats'"
      ],
      "text/markdown": [
       "'C:/Users/Etienne Jenner/Documents/3A - Télécom Bretagne/Projet Stats'"
      ],
      "text/plain": [
       "[1] \"C:/Users/Etienne Jenner/Documents/3A - Télécom Bretagne/Projet Stats\""
      ]
     },
     "metadata": {},
     "output_type": "display_data"
    }
   ],
   "source": [
    "getwd()"
   ]
  },
  {
   "cell_type": "code",
   "execution_count": 89,
   "metadata": {},
   "outputs": [],
   "source": [
    "mail=read.csv(\"101e renomme.csv\", sep=\";\")"
   ]
  },
  {
   "cell_type": "markdown",
   "metadata": {},
   "source": [
    "### 1. Renommage des colonnes "
   ]
  },
  {
   "cell_type": "markdown",
   "metadata": {},
   "source": [
    "### 2. Suppression des ouliers"
   ]
  },
  {
   "cell_type": "code",
   "execution_count": 91,
   "metadata": {},
   "outputs": [
    {
     "data": {
      "text/html": [
       "<ol class=list-inline>\n",
       "\t<li>'statut'</li>\n",
       "\t<li>'age'</li>\n",
       "\t<li>'expérience.professionnelle'</li>\n",
       "\t<li>'temps.passé.moyen.sur.internet'</li>\n",
       "\t<li>'appareil.préféré.de.consultation'</li>\n",
       "\t<li>'nombre.de.boites.mail'</li>\n",
       "\t<li>'nombre.de.messagerie.consultées.régulièrement'</li>\n",
       "\t<li>'fréquence.de.consultation.de.la.messagerie'</li>\n",
       "\t<li>'nombre.de.mails.reçus.par.jour'</li>\n",
       "\t<li>'concerné'</li>\n",
       "\t<li>'notification.de.mails'</li>\n",
       "\t<li>'lecture.de.tous.les.mails'</li>\n",
       "\t<li>'lecture.de.l.objet.expéditeur'</li>\n",
       "\t<li>'nombre.de.mails.non.lus'</li>\n",
       "\t<li>'nombre.de.mails.envoyés.par.semaine'</li>\n",
       "\t<li>'réponse.à.des.mails.nécessitant.une.réponse'</li>\n",
       "\t<li>'consultation.de.mails.en.dehors.des.heures.de.travail.études'</li>\n",
       "\t<li>'personnalisation.de.la.messagerie'</li>\n",
       "\t<li>'importance.de.l.ergonomie'</li>\n",
       "\t<li>'sentiment.envers.de.zéro.inbox'</li>\n",
       "\t<li>'autre.fonctionnalité.de.la.boite.mail'</li>\n",
       "</ol>\n"
      ],
      "text/latex": [
       "\\begin{enumerate*}\n",
       "\\item 'statut'\n",
       "\\item 'age'\n",
       "\\item 'expérience.professionnelle'\n",
       "\\item 'temps.passé.moyen.sur.internet'\n",
       "\\item 'appareil.préféré.de.consultation'\n",
       "\\item 'nombre.de.boites.mail'\n",
       "\\item 'nombre.de.messagerie.consultées.régulièrement'\n",
       "\\item 'fréquence.de.consultation.de.la.messagerie'\n",
       "\\item 'nombre.de.mails.reçus.par.jour'\n",
       "\\item 'concerné'\n",
       "\\item 'notification.de.mails'\n",
       "\\item 'lecture.de.tous.les.mails'\n",
       "\\item 'lecture.de.l.objet.expéditeur'\n",
       "\\item 'nombre.de.mails.non.lus'\n",
       "\\item 'nombre.de.mails.envoyés.par.semaine'\n",
       "\\item 'réponse.à.des.mails.nécessitant.une.réponse'\n",
       "\\item 'consultation.de.mails.en.dehors.des.heures.de.travail.études'\n",
       "\\item 'personnalisation.de.la.messagerie'\n",
       "\\item 'importance.de.l.ergonomie'\n",
       "\\item 'sentiment.envers.de.zéro.inbox'\n",
       "\\item 'autre.fonctionnalité.de.la.boite.mail'\n",
       "\\end{enumerate*}\n"
      ],
      "text/markdown": [
       "1. 'statut'\n",
       "2. 'age'\n",
       "3. 'expérience.professionnelle'\n",
       "4. 'temps.passé.moyen.sur.internet'\n",
       "5. 'appareil.préféré.de.consultation'\n",
       "6. 'nombre.de.boites.mail'\n",
       "7. 'nombre.de.messagerie.consultées.régulièrement'\n",
       "8. 'fréquence.de.consultation.de.la.messagerie'\n",
       "9. 'nombre.de.mails.reçus.par.jour'\n",
       "10. 'concerné'\n",
       "11. 'notification.de.mails'\n",
       "12. 'lecture.de.tous.les.mails'\n",
       "13. 'lecture.de.l.objet.expéditeur'\n",
       "14. 'nombre.de.mails.non.lus'\n",
       "15. 'nombre.de.mails.envoyés.par.semaine'\n",
       "16. 'réponse.à.des.mails.nécessitant.une.réponse'\n",
       "17. 'consultation.de.mails.en.dehors.des.heures.de.travail.études'\n",
       "18. 'personnalisation.de.la.messagerie'\n",
       "19. 'importance.de.l.ergonomie'\n",
       "20. 'sentiment.envers.de.zéro.inbox'\n",
       "21. 'autre.fonctionnalité.de.la.boite.mail'\n",
       "\n",
       "\n"
      ],
      "text/plain": [
       " [1] \"statut\"                                                      \n",
       " [2] \"age\"                                                         \n",
       " [3] \"expérience.professionnelle\"                                  \n",
       " [4] \"temps.passé.moyen.sur.internet\"                              \n",
       " [5] \"appareil.préféré.de.consultation\"                            \n",
       " [6] \"nombre.de.boites.mail\"                                       \n",
       " [7] \"nombre.de.messagerie.consultées.régulièrement\"               \n",
       " [8] \"fréquence.de.consultation.de.la.messagerie\"                  \n",
       " [9] \"nombre.de.mails.reçus.par.jour\"                              \n",
       "[10] \"concerné\"                                                    \n",
       "[11] \"notification.de.mails\"                                       \n",
       "[12] \"lecture.de.tous.les.mails\"                                   \n",
       "[13] \"lecture.de.l.objet.expéditeur\"                               \n",
       "[14] \"nombre.de.mails.non.lus\"                                     \n",
       "[15] \"nombre.de.mails.envoyés.par.semaine\"                         \n",
       "[16] \"réponse.à.des.mails.nécessitant.une.réponse\"                 \n",
       "[17] \"consultation.de.mails.en.dehors.des.heures.de.travail.études\"\n",
       "[18] \"personnalisation.de.la.messagerie\"                           \n",
       "[19] \"importance.de.l.ergonomie\"                                   \n",
       "[20] \"sentiment.envers.de.zéro.inbox\"                              \n",
       "[21] \"autre.fonctionnalité.de.la.boite.mail\"                       "
      ]
     },
     "metadata": {},
     "output_type": "display_data"
    }
   ],
   "source": [
    "names(mail)"
   ]
  },
  {
   "cell_type": "code",
   "execution_count": 93,
   "metadata": {},
   "outputs": [
    {
     "data": {
      "text/html": [
       "<table>\n",
       "<thead><tr><th></th><th scope=col>statut</th><th scope=col>age</th><th scope=col>expérience.professionnelle</th><th scope=col>temps.passé.moyen.sur.internet</th><th scope=col>appareil.préféré.de.consultation</th><th scope=col>nombre.de.boites.mail</th><th scope=col>nombre.de.messagerie.consultées.régulièrement</th><th scope=col>fréquence.de.consultation.de.la.messagerie</th><th scope=col>nombre.de.mails.reçus.par.jour</th><th scope=col>concerné</th><th scope=col>...</th><th scope=col>lecture.de.tous.les.mails</th><th scope=col>lecture.de.l.objet.expéditeur</th><th scope=col>nombre.de.mails.non.lus</th><th scope=col>nombre.de.mails.envoyés.par.semaine</th><th scope=col>réponse.à.des.mails.nécessitant.une.réponse</th><th scope=col>consultation.de.mails.en.dehors.des.heures.de.travail.études</th><th scope=col>personnalisation.de.la.messagerie</th><th scope=col>importance.de.l.ergonomie</th><th scope=col>sentiment.envers.de.zéro.inbox</th><th scope=col>autre.fonctionnalité.de.la.boite.mail</th></tr></thead>\n",
       "<tbody>\n",
       "\t<tr><th scope=row>301</th><td>2A                               </td><td>21                               </td><td>Entre 1 et 6 mois                </td><td>240                              </td><td>Un ordinateur                    </td><td>3                                </td><td>3                                </td><td>&lt; 3                           </td><td>10                               </td><td>Rarement                         </td><td>...                              </td><td>Rarement                         </td><td>Oui                              </td><td>10                               </td><td>5                                </td><td>Parfois                          </td><td>Oui                              </td><td>Oui                              </td><td>Relativement importante          </td><td>Marquer tout en lu               </td><td>Non, j'ai d'autres outils pour ça</td></tr>\n",
       "</tbody>\n",
       "</table>\n"
      ],
      "text/latex": [
       "\\begin{tabular}{r|lllllllllllllllllllll}\n",
       "  & statut & age & expérience.professionnelle & temps.passé.moyen.sur.internet & appareil.préféré.de.consultation & nombre.de.boites.mail & nombre.de.messagerie.consultées.régulièrement & fréquence.de.consultation.de.la.messagerie & nombre.de.mails.reçus.par.jour & concerné & ... & lecture.de.tous.les.mails & lecture.de.l.objet.expéditeur & nombre.de.mails.non.lus & nombre.de.mails.envoyés.par.semaine & réponse.à.des.mails.nécessitant.une.réponse & consultation.de.mails.en.dehors.des.heures.de.travail.études & personnalisation.de.la.messagerie & importance.de.l.ergonomie & sentiment.envers.de.zéro.inbox & autre.fonctionnalité.de.la.boite.mail\\\\\n",
       "\\hline\n",
       "\t301 & 2A                                & 21                                & Entre 1 et 6 mois                 & 240                               & Un ordinateur                     & 3                                 & 3                                 & < 3                               & 10                                & Rarement                          & ...                               & Rarement                          & Oui                               & 10                                & 5                                 & Parfois                           & Oui                               & Oui                               & Relativement importante           & Marquer tout en lu                & Non, j'ai d'autres outils pour ça\\\\\n",
       "\\end{tabular}\n"
      ],
      "text/markdown": [
       "\n",
       "| <!--/--> | statut | age | expérience.professionnelle | temps.passé.moyen.sur.internet | appareil.préféré.de.consultation | nombre.de.boites.mail | nombre.de.messagerie.consultées.régulièrement | fréquence.de.consultation.de.la.messagerie | nombre.de.mails.reçus.par.jour | concerné | ... | lecture.de.tous.les.mails | lecture.de.l.objet.expéditeur | nombre.de.mails.non.lus | nombre.de.mails.envoyés.par.semaine | réponse.à.des.mails.nécessitant.une.réponse | consultation.de.mails.en.dehors.des.heures.de.travail.études | personnalisation.de.la.messagerie | importance.de.l.ergonomie | sentiment.envers.de.zéro.inbox | autre.fonctionnalité.de.la.boite.mail | \n",
       "|---|\n",
       "| 301 | 2A                                | 21                                | Entre 1 et 6 mois                 | 240                               | Un ordinateur                     | 3                                 | 3                                 | < 3                               | 10                                | Rarement                          | ...                               | Rarement                          | Oui                               | 10                                | 5                                 | Parfois                           | Oui                               | Oui                               | Relativement importante           | Marquer tout en lu                | Non, j'ai d'autres outils pour ça | \n",
       "\n",
       "\n"
      ],
      "text/plain": [
       "    statut age expérience.professionnelle temps.passé.moyen.sur.internet\n",
       "301 2A     21  Entre 1 et 6 mois          240                           \n",
       "    appareil.préféré.de.consultation nombre.de.boites.mail\n",
       "301 Un ordinateur                    3                    \n",
       "    nombre.de.messagerie.consultées.régulièrement\n",
       "301 3                                            \n",
       "    fréquence.de.consultation.de.la.messagerie nombre.de.mails.reçus.par.jour\n",
       "301 < 3                                        10                            \n",
       "    concerné ... lecture.de.tous.les.mails lecture.de.l.objet.expéditeur\n",
       "301 Rarement ... Rarement                  Oui                          \n",
       "    nombre.de.mails.non.lus nombre.de.mails.envoyés.par.semaine\n",
       "301 10                      5                                  \n",
       "    réponse.à.des.mails.nécessitant.une.réponse\n",
       "301 Parfois                                    \n",
       "    consultation.de.mails.en.dehors.des.heures.de.travail.études\n",
       "301 Oui                                                         \n",
       "    personnalisation.de.la.messagerie importance.de.l.ergonomie\n",
       "301 Oui                               Relativement importante  \n",
       "    sentiment.envers.de.zéro.inbox autre.fonctionnalité.de.la.boite.mail\n",
       "301 Marquer tout en lu             Non, j'ai d'autres outils pour ça    "
      ]
     },
     "metadata": {},
     "output_type": "display_data"
    },
    {
     "data": {
      "image/png": "[encoded data removed]",
      "text/plain": [
       "plot without title"
      ]
     },
     "metadata": {},
     "output_type": "display_data"
    }
   ],
   "source": [
    "mail[which(mail$temps.passé.moyen.sur.internet==240),]\n",
    "boxplot((mail$temps.passé.moyen.sur.internet))"
   ]
  },
  {
   "cell_type": "code",
   "execution_count": 94,
   "metadata": {},
   "outputs": [],
   "source": [
    "mydata<-mail[which(mail$temps.passé.moyen.sur.internet<200),]"
   ]
  },
  {
   "cell_type": "code",
   "execution_count": 95,
   "metadata": {},
   "outputs": [
    {
     "data": {
      "text/html": [
       "'data.frame'"
      ],
      "text/latex": [
       "'data.frame'"
      ],
      "text/markdown": [
       "'data.frame'"
      ],
      "text/plain": [
       "[1] \"data.frame\""
      ]
     },
     "metadata": {},
     "output_type": "display_data"
    }
   ],
   "source": [
    "class(mydata)"
   ]
  },
  {
   "cell_type": "code",
   "execution_count": 96,
   "metadata": {},
   "outputs": [
    {
     "data": {
      "image/png": "[encoded data removed]",
      "text/plain": [
       "plot without title"
      ]
     },
     "metadata": {},
     "output_type": "display_data"
    }
   ],
   "source": [
    "boxplot(mydata$temps.passé.moyen.sur.internet)"
   ]
  },
  {
   "cell_type": "code",
   "execution_count": 97,
   "metadata": {},
   "outputs": [
    {
     "data": {
      "text/html": [
       "<ol class=list-inline>\n",
       "\t<li>15</li>\n",
       "\t<li>30</li>\n",
       "\t<li>15</li>\n",
       "\t<li>16</li>\n",
       "\t<li>16</li>\n",
       "\t<li>15</li>\n",
       "\t<li>24</li>\n",
       "\t<li>16</li>\n",
       "\t<li>18</li>\n",
       "\t<li>24</li>\n",
       "\t<li>20</li>\n",
       "\t<li>30</li>\n",
       "\t<li>15</li>\n",
       "\t<li>16</li>\n",
       "\t<li>16</li>\n",
       "\t<li>16</li>\n",
       "\t<li>18</li>\n",
       "\t<li>14</li>\n",
       "\t<li>240</li>\n",
       "\t<li>14</li>\n",
       "</ol>\n"
      ],
      "text/latex": [
       "\\begin{enumerate*}\n",
       "\\item 15\n",
       "\\item 30\n",
       "\\item 15\n",
       "\\item 16\n",
       "\\item 16\n",
       "\\item 15\n",
       "\\item 24\n",
       "\\item 16\n",
       "\\item 18\n",
       "\\item 24\n",
       "\\item 20\n",
       "\\item 30\n",
       "\\item 15\n",
       "\\item 16\n",
       "\\item 16\n",
       "\\item 16\n",
       "\\item 18\n",
       "\\item 14\n",
       "\\item 240\n",
       "\\item 14\n",
       "\\end{enumerate*}\n"
      ],
      "text/markdown": [
       "1. 15\n",
       "2. 30\n",
       "3. 15\n",
       "4. 16\n",
       "5. 16\n",
       "6. 15\n",
       "7. 24\n",
       "8. 16\n",
       "9. 18\n",
       "10. 24\n",
       "11. 20\n",
       "12. 30\n",
       "13. 15\n",
       "14. 16\n",
       "15. 16\n",
       "16. 16\n",
       "17. 18\n",
       "18. 14\n",
       "19. 240\n",
       "20. 14\n",
       "\n",
       "\n"
      ],
      "text/plain": [
       " [1]  15  30  15  16  16  15  24  16  18  24  20  30  15  16  16  16  18  14 240\n",
       "[20]  14"
      ]
     },
     "metadata": {},
     "output_type": "display_data"
    }
   ],
   "source": [
    "outliers_val=boxplot.stats(mail$temps.passé.moyen.sur.internet)$out\n",
    "outliers_val"
   ]
  },
  {
   "cell_type": "code",
   "execution_count": 98,
   "metadata": {
    "scrolled": true
   },
   "outputs": [
    {
     "data": {
      "text/html": [
       "<ol class=list-inline>\n",
       "\t<li>5</li>\n",
       "\t<li>27</li>\n",
       "\t<li>44</li>\n",
       "\t<li>78</li>\n",
       "\t<li>93</li>\n",
       "\t<li>104</li>\n",
       "\t<li>117</li>\n",
       "\t<li>148</li>\n",
       "\t<li>162</li>\n",
       "\t<li>198</li>\n",
       "\t<li>211</li>\n",
       "\t<li>224</li>\n",
       "\t<li>256</li>\n",
       "\t<li>258</li>\n",
       "\t<li>268</li>\n",
       "\t<li>277</li>\n",
       "\t<li>285</li>\n",
       "\t<li>300</li>\n",
       "\t<li>301</li>\n",
       "\t<li>328</li>\n",
       "</ol>\n"
      ],
      "text/latex": [
       "\\begin{enumerate*}\n",
       "\\item 5\n",
       "\\item 27\n",
       "\\item 44\n",
       "\\item 78\n",
       "\\item 93\n",
       "\\item 104\n",
       "\\item 117\n",
       "\\item 148\n",
       "\\item 162\n",
       "\\item 198\n",
       "\\item 211\n",
       "\\item 224\n",
       "\\item 256\n",
       "\\item 258\n",
       "\\item 268\n",
       "\\item 277\n",
       "\\item 285\n",
       "\\item 300\n",
       "\\item 301\n",
       "\\item 328\n",
       "\\end{enumerate*}\n"
      ],
      "text/markdown": [
       "1. 5\n",
       "2. 27\n",
       "3. 44\n",
       "4. 78\n",
       "5. 93\n",
       "6. 104\n",
       "7. 117\n",
       "8. 148\n",
       "9. 162\n",
       "10. 198\n",
       "11. 211\n",
       "12. 224\n",
       "13. 256\n",
       "14. 258\n",
       "15. 268\n",
       "16. 277\n",
       "17. 285\n",
       "18. 300\n",
       "19. 301\n",
       "20. 328\n",
       "\n",
       "\n"
      ],
      "text/plain": [
       " [1]   5  27  44  78  93 104 117 148 162 198 211 224 256 258 268 277 285 300 301\n",
       "[20] 328"
      ]
     },
     "metadata": {},
     "output_type": "display_data"
    },
    {
     "data": {
      "text/html": [
       "<table>\n",
       "<thead><tr><th></th><th scope=col>statut</th><th scope=col>age</th><th scope=col>expérience.professionnelle</th><th scope=col>temps.passé.moyen.sur.internet</th><th scope=col>appareil.préféré.de.consultation</th><th scope=col>nombre.de.boites.mail</th><th scope=col>nombre.de.messagerie.consultées.régulièrement</th><th scope=col>fréquence.de.consultation.de.la.messagerie</th><th scope=col>nombre.de.mails.reçus.par.jour</th><th scope=col>concerné</th><th scope=col>...</th><th scope=col>lecture.de.tous.les.mails</th><th scope=col>lecture.de.l.objet.expéditeur</th><th scope=col>nombre.de.mails.non.lus</th><th scope=col>nombre.de.mails.envoyés.par.semaine</th><th scope=col>réponse.à.des.mails.nécessitant.une.réponse</th><th scope=col>consultation.de.mails.en.dehors.des.heures.de.travail.études</th><th scope=col>personnalisation.de.la.messagerie</th><th scope=col>importance.de.l.ergonomie</th><th scope=col>sentiment.envers.de.zéro.inbox</th><th scope=col>autre.fonctionnalité.de.la.boite.mail</th></tr></thead>\n",
       "<tbody>\n",
       "\t<tr><th scope=row>5</th><td><span style=white-space:pre-wrap>Enseignant             </span>          </td><td>33                                                                       </td><td>Ça se compte en années                                                   </td><td> 15                                                                      </td><td><span style=white-space:pre-wrap>Un ordinateur       </span>             </td><td> 2                                                                       </td><td>2                                                                        </td><td>&gt; 30                                                                  </td><td> 50                                                                      </td><td>Souvent                                                                  </td><td>...                                                                      </td><td>En grande partie                                                         </td><td>Oui                                                                      </td><td><span style=white-space:pre-wrap>   10</span>                            </td><td> 30                                                                      </td><td><span style=white-space:pre-wrap>Oui    </span>                          </td><td><span style=white-space:pre-wrap>Oui    </span>                          </td><td>Oui                                                                      </td><td><span style=white-space:pre-wrap>Très importante         </span>         </td><td><span style=white-space:pre-wrap>Lire tous les mails       </span>       </td><td><span style=white-space:pre-wrap>Oui, souvent                     </span></td></tr>\n",
       "\t<tr><th scope=row>27</th><td>Personnel Administratif                                                  </td><td>50                                                                       </td><td>Ça se compte en années                                                   </td><td> 30                                                                      </td><td><span style=white-space:pre-wrap>Un ordinateur       </span>             </td><td> 2                                                                       </td><td>2                                                                        </td><td>&gt; 30                                                                  </td><td> 50                                                                      </td><td>Souvent                                                                  </td><td>...                                                                      </td><td><span style=white-space:pre-wrap>Quasiment tous  </span>                 </td><td>Oui                                                                      </td><td><span style=white-space:pre-wrap>    0</span>                            </td><td>150                                                                      </td><td><span style=white-space:pre-wrap>Oui    </span>                          </td><td><span style=white-space:pre-wrap>Oui    </span>                          </td><td>Oui                                                                      </td><td>Relativement importante                                                  </td><td><span style=white-space:pre-wrap>Marquer tout en lu        </span>       </td><td><span style=white-space:pre-wrap>Oui, souvent                     </span></td></tr>\n",
       "\t<tr><th scope=row>44</th><td><span style=white-space:pre-wrap>1A                     </span>          </td><td>20                                                                       </td><td><span style=white-space:pre-wrap>Entre 1 et 6 mois     </span>           </td><td> 15                                                                      </td><td>Une montre connectée                                                     </td><td> 3                                                                       </td><td>3                                                                        </td><td>&gt; 30                                                                  </td><td> 10                                                                      </td><td>Souvent                                                                  </td><td>...                                                                      </td><td><span style=white-space:pre-wrap>Quasiment tous  </span>                 </td><td>Oui                                                                      </td><td><span style=white-space:pre-wrap>    0</span>                            </td><td> 30                                                                      </td><td><span style=white-space:pre-wrap>Oui    </span>                          </td><td><span style=white-space:pre-wrap>Oui    </span>                          </td><td>Oui                                                                      </td><td>Relativement importante                                                  </td><td><span style=white-space:pre-wrap>Lire tous les mails       </span>       </td><td><span style=white-space:pre-wrap>Oui, parfois                     </span></td></tr>\n",
       "\t<tr><th scope=row>78</th><td><span style=white-space:pre-wrap>Autre                  </span>          </td><td>28                                                                       </td><td><span style=white-space:pre-wrap>Entre 1 et 6 mois     </span>           </td><td> 16                                                                      </td><td><span style=white-space:pre-wrap>Un ordinateur       </span>             </td><td> 3                                                                       </td><td>2                                                                        </td><td>&gt; 30                                                                  </td><td><span style=white-space:pre-wrap>  6</span>                              </td><td>Souvent                                                                  </td><td>...                                                                      </td><td>En grande partie                                                         </td><td>Oui                                                                      </td><td><span style=white-space:pre-wrap>    1</span>                            </td><td> 15                                                                      </td><td><span style=white-space:pre-wrap>Oui    </span>                          </td><td><span style=white-space:pre-wrap>Oui    </span>                          </td><td>Oui                                                                      </td><td><span style=white-space:pre-wrap>Très importante         </span>         </td><td><span style=white-space:pre-wrap>Marquer tout en lu        </span>       </td><td><span style=white-space:pre-wrap>Oui, souvent                     </span></td></tr>\n",
       "\t<tr><th scope=row>93</th><td><span style=white-space:pre-wrap>3A                     </span>          </td><td>22                                                                       </td><td><span style=white-space:pre-wrap>Sans Expérience       </span>           </td><td> 16                                                                      </td><td><span style=white-space:pre-wrap>Un smartphone       </span>             </td><td> 3                                                                       </td><td>3                                                                        </td><td>&gt; 10                                                                  </td><td> 10                                                                      </td><td>Rarement                                                                 </td><td>...                                                                      </td><td>En grande partie                                                         </td><td>Oui                                                                      </td><td><span style=white-space:pre-wrap>  250</span>                            </td><td><span style=white-space:pre-wrap>  2</span>                              </td><td>Parfois                                                                  </td><td><span style=white-space:pre-wrap>Oui    </span>                          </td><td>Non                                                                      </td><td>Relativement importante                                                  </td><td><span style=white-space:pre-wrap>Lire tous les mails       </span>       </td><td><span style=white-space:pre-wrap>Oui, souvent                     </span></td></tr>\n",
       "\t<tr><th scope=row>104</th><td><span style=white-space:pre-wrap>Master                 </span>   </td><td>22                                                                </td><td><span style=white-space:pre-wrap>Expérience &gt; 6 mois   </span> </td><td> 15                                                               </td><td><span style=white-space:pre-wrap>Un ordinateur       </span>      </td><td> 6                                                                </td><td>4                                                                 </td><td>&gt; 10                                                           </td><td><span style=white-space:pre-wrap>  3</span>                       </td><td>Souvent                                                           </td><td>...                                                               </td><td>En grande partie                                                  </td><td>Oui                                                               </td><td><span style=white-space:pre-wrap>   10</span>                     </td><td><span style=white-space:pre-wrap>  5</span>                       </td><td><span style=white-space:pre-wrap>Oui    </span>                   </td><td><span style=white-space:pre-wrap>Oui    </span>                   </td><td>Non                                                               </td><td><span style=white-space:pre-wrap>Très importante         </span>  </td><td><span style=white-space:pre-wrap>Marquer tout en lu        </span></td><td>Non, j'ai d'autres outils pour ça                                 </td></tr>\n",
       "\t<tr><th scope=row>117</th><td><span style=white-space:pre-wrap>Autre                  </span>          </td><td>24                                                                       </td><td>Ça se compte en années                                                   </td><td> 24                                                                      </td><td>Une montre connectée                                                     </td><td>33                                                                       </td><td>0                                                                        </td><td>&lt; 3                                                                   </td><td>300                                                                      </td><td>Toujours                                                                 </td><td>...                                                                      </td><td><span style=white-space:pre-wrap>Rarement        </span>                 </td><td>Non                                                                      </td><td>10000                                                                    </td><td><span style=white-space:pre-wrap>  0</span>                              </td><td><span style=white-space:pre-wrap>Non    </span>                          </td><td><span style=white-space:pre-wrap>Non    </span>                          </td><td>Non                                                                      </td><td><span style=white-space:pre-wrap>Très importante         </span>         </td><td>Avoir 10.000 mails non lus                                               </td><td><span style=white-space:pre-wrap>Ah bonne idée                    </span></td></tr>\n",
       "\t<tr><th scope=row>148</th><td><span style=white-space:pre-wrap>3A                     </span>          </td><td>23                                                                       </td><td><span style=white-space:pre-wrap>Expérience &gt; 6 mois   </span>        </td><td> 16                                                                      </td><td><span style=white-space:pre-wrap>Un smartphone       </span>             </td><td> 3                                                                       </td><td>2                                                                        </td><td>&lt; 10                                                                  </td><td> 15                                                                      </td><td>Souvent                                                                  </td><td>...                                                                      </td><td>En grande partie                                                         </td><td>Oui                                                                      </td><td><span style=white-space:pre-wrap>    0</span>                            </td><td> 10                                                                      </td><td><span style=white-space:pre-wrap>Oui    </span>                          </td><td><span style=white-space:pre-wrap>Oui    </span>                          </td><td>Oui                                                                      </td><td><span style=white-space:pre-wrap>Très importante         </span>         </td><td><span style=white-space:pre-wrap>Marquer tout en lu        </span>       </td><td><span style=white-space:pre-wrap>Oui, parfois                     </span></td></tr>\n",
       "\t<tr><th scope=row>162</th><td><span style=white-space:pre-wrap>3A                     </span>          </td><td>23                                                                       </td><td><span style=white-space:pre-wrap>Entre 1 et 6 mois     </span>           </td><td> 18                                                                      </td><td><span style=white-space:pre-wrap>Un smartphone       </span>             </td><td> 5                                                                       </td><td>3                                                                        </td><td>&gt; 10                                                                  </td><td> 10                                                                      </td><td>Rarement                                                                 </td><td>...                                                                      </td><td><span style=white-space:pre-wrap>Rarement        </span>                 </td><td>Oui                                                                      </td><td> 1054                                                                    </td><td> 10                                                                      </td><td><span style=white-space:pre-wrap>Non    </span>                          </td><td><span style=white-space:pre-wrap>Oui    </span>                          </td><td>Oui                                                                      </td><td><span style=white-space:pre-wrap>Très importante         </span>         </td><td>Avoir 10.000 mails non lus                                               </td><td><span style=white-space:pre-wrap>Oui, souvent                     </span></td></tr>\n",
       "\t<tr><th scope=row>198</th><td><span style=white-space:pre-wrap>3A                     </span>          </td><td>22                                                                       </td><td><span style=white-space:pre-wrap>Expérience &gt; 6 mois   </span>        </td><td> 24                                                                      </td><td><span style=white-space:pre-wrap>Un smartphone       </span>             </td><td> 3                                                                       </td><td>3                                                                        </td><td>&gt; 10                                                                  </td><td> 12                                                                      </td><td>Souvent                                                                  </td><td>...                                                                      </td><td>En grande partie                                                         </td><td>Oui                                                                      </td><td><span style=white-space:pre-wrap>    0</span>                            </td><td><span style=white-space:pre-wrap>  4</span>                              </td><td><span style=white-space:pre-wrap>Oui    </span>                          </td><td><span style=white-space:pre-wrap>Oui    </span>                          </td><td>Oui                                                                      </td><td><span style=white-space:pre-wrap>Très importante         </span>         </td><td><span style=white-space:pre-wrap>Lire tous les mails       </span>       </td><td><span style=white-space:pre-wrap>Oui, souvent                     </span></td></tr>\n",
       "\t<tr><th scope=row>211</th><td><span style=white-space:pre-wrap>3A                     </span>          </td><td>18                                                                       </td><td>Ça se compte en années                                                   </td><td> 20                                                                      </td><td>Une montre connectée                                                     </td><td> 6                                                                       </td><td>8                                                                        </td><td>&lt; 10                                                                  </td><td> 55                                                                      </td><td>Rarement                                                                 </td><td>...                                                                      </td><td><span style=white-space:pre-wrap>Rarement        </span>                 </td><td>Oui                                                                      </td><td><span style=white-space:pre-wrap>    0</span>                            </td><td>200                                                                      </td><td><span style=white-space:pre-wrap>Non    </span>                          </td><td>Parfois                                                                  </td><td>Non                                                                      </td><td>Pas tellement importante                                                 </td><td>Avoir 10.000 mails non lus                                               </td><td><span style=white-space:pre-wrap>Ah bonne idée                    </span></td></tr>\n",
       "\t<tr><th scope=row>224</th><td><span style=white-space:pre-wrap>Master                 </span>          </td><td>46                                                                       </td><td>Ça se compte en années                                                   </td><td> 30                                                                      </td><td><span style=white-space:pre-wrap>Un ordinateur       </span>             </td><td> 3                                                                       </td><td>3                                                                        </td><td>&lt; 10                                                                  </td><td> 10                                                                      </td><td>Souvent                                                                  </td><td>...                                                                      </td><td>En grande partie                                                         </td><td>Oui                                                                      </td><td><span style=white-space:pre-wrap>    2</span>                            </td><td> 20                                                                      </td><td><span style=white-space:pre-wrap>Oui    </span>                          </td><td><span style=white-space:pre-wrap>Oui    </span>                          </td><td>Oui                                                                      </td><td><span style=white-space:pre-wrap>Très importante         </span>         </td><td><span style=white-space:pre-wrap>Lire tous les mails       </span>       </td><td><span style=white-space:pre-wrap>Oui, parfois                     </span></td></tr>\n",
       "\t<tr><th scope=row>256</th><td>Personnel Administratif                                         </td><td>61                                                              </td><td>Ça se compte en années                                          </td><td> 15                                                             </td><td><span style=white-space:pre-wrap>Un ordinateur       </span>    </td><td> 1                                                              </td><td>1                                                               </td><td>&lt; 10                                                         </td><td> 70                                                             </td><td>Souvent                                                         </td><td>...                                                             </td><td>En grande partie                                                </td><td>Oui                                                             </td><td> 7000                                                           </td><td>125                                                             </td><td><span style=white-space:pre-wrap>Oui    </span>                 </td><td>Parfois                                                         </td><td>Oui                                                             </td><td><span style=white-space:pre-wrap>Très importante         </span></td><td>Avoir 10.000 mails non lus                                      </td><td>Non, j'ai d'autres outils pour ça                               </td></tr>\n",
       "\t<tr><th scope=row>258</th><td><span style=white-space:pre-wrap>Autre                  </span>          </td><td>32                                                                       </td><td><span style=white-space:pre-wrap>Expérience &gt; 6 mois   </span>        </td><td> 16                                                                      </td><td><span style=white-space:pre-wrap>Un smartphone       </span>             </td><td> 7                                                                       </td><td>7                                                                        </td><td>&lt; 3                                                                   </td><td> 10                                                                      </td><td>Toujours                                                                 </td><td>...                                                                      </td><td><span style=white-space:pre-wrap>Quasiment tous  </span>                 </td><td>Oui                                                                      </td><td><span style=white-space:pre-wrap>    0</span>                            </td><td> 30                                                                      </td><td><span style=white-space:pre-wrap>Oui    </span>                          </td><td><span style=white-space:pre-wrap>Oui    </span>                          </td><td>Oui                                                                      </td><td><span style=white-space:pre-wrap>Très importante         </span>         </td><td><span style=white-space:pre-wrap>Lire tous les mails       </span>       </td><td><span style=white-space:pre-wrap>Oui, souvent                     </span></td></tr>\n",
       "\t<tr><th scope=row>268</th><td><span style=white-space:pre-wrap>3A                     </span>   </td><td>22                                                                </td><td><span style=white-space:pre-wrap>Entre 1 et 6 mois     </span>    </td><td> 16                                                               </td><td><span style=white-space:pre-wrap>Un ordinateur       </span>      </td><td> 4                                                                </td><td>3                                                                 </td><td>&lt; 3                                                            </td><td> 20                                                               </td><td>Rarement                                                          </td><td>...                                                               </td><td>En grande partie                                                  </td><td>Oui                                                               </td><td><span style=white-space:pre-wrap>    0</span>                     </td><td><span style=white-space:pre-wrap>  2</span>                       </td><td><span style=white-space:pre-wrap>Oui    </span>                   </td><td><span style=white-space:pre-wrap>Oui    </span>                   </td><td>Non                                                               </td><td>Pas tellement importante                                          </td><td><span style=white-space:pre-wrap>Marquer tout en lu        </span></td><td>Non, j'ai d'autres outils pour ça                                 </td></tr>\n",
       "\t<tr><th scope=row>277</th><td><span style=white-space:pre-wrap>Autre                  </span>   </td><td>32                                                                </td><td>Ça se compte en années                                            </td><td> 16                                                               </td><td><span style=white-space:pre-wrap>Un smartphone       </span>      </td><td> 5                                                                </td><td>5                                                                 </td><td>&lt; 3                                                            </td><td><span style=white-space:pre-wrap>  6</span>                       </td><td><span style=white-space:pre-wrap>Jamais  </span>                  </td><td>...                                                               </td><td><span style=white-space:pre-wrap>Rarement        </span>          </td><td>Oui                                                               </td><td><span style=white-space:pre-wrap>   30</span>                     </td><td><span style=white-space:pre-wrap>  3</span>                       </td><td><span style=white-space:pre-wrap>Oui    </span>                   </td><td><span style=white-space:pre-wrap>Oui    </span>                   </td><td>Oui                                                               </td><td>Relativement importante                                           </td><td><span style=white-space:pre-wrap>Marquer tout en lu        </span></td><td>Non, j'ai d'autres outils pour ça                                 </td></tr>\n",
       "\t<tr><th scope=row>285</th><td><span style=white-space:pre-wrap>Autre                  </span>          </td><td>23                                                                       </td><td><span style=white-space:pre-wrap>Entre 1 et 6 mois     </span>           </td><td> 18                                                                      </td><td><span style=white-space:pre-wrap>Un smartphone       </span>             </td><td> 5                                                                       </td><td>3                                                                        </td><td>&lt; 10                                                                  </td><td><span style=white-space:pre-wrap>  5</span>                              </td><td>Rarement                                                                 </td><td>...                                                                      </td><td><span style=white-space:pre-wrap>Rarement        </span>                 </td><td>Oui                                                                      </td><td> 4000                                                                    </td><td><span style=white-space:pre-wrap>  2</span>                              </td><td><span style=white-space:pre-wrap>Non    </span>                          </td><td>Parfois                                                                  </td><td>Non                                                                      </td><td>Pas tellement importante                                                 </td><td><span style=white-space:pre-wrap>Marquer tout en lu        </span>       </td><td><span style=white-space:pre-wrap>Oui, parfois                     </span></td></tr>\n",
       "\t<tr><th scope=row>300</th><td><span style=white-space:pre-wrap>3A                     </span>          </td><td>24                                                                       </td><td><span style=white-space:pre-wrap>Entre 1 et 6 mois     </span>           </td><td> 14                                                                      </td><td><span style=white-space:pre-wrap>Un ordinateur       </span>             </td><td> 5                                                                       </td><td>3                                                                        </td><td>&lt; 10                                                                  </td><td> 10                                                                      </td><td>Rarement                                                                 </td><td>...                                                                      </td><td><span style=white-space:pre-wrap>Rarement        </span>                 </td><td>Oui                                                                      </td><td><span style=white-space:pre-wrap>  100</span>                            </td><td><span style=white-space:pre-wrap>  3</span>                              </td><td><span style=white-space:pre-wrap>Oui    </span>                          </td><td><span style=white-space:pre-wrap>Oui    </span>                          </td><td>Non                                                                      </td><td><span style=white-space:pre-wrap>Très importante         </span>         </td><td><span style=white-space:pre-wrap>Marquer tout en lu        </span>       </td><td><span style=white-space:pre-wrap>Oui, parfois                     </span></td></tr>\n",
       "\t<tr><th scope=row>301</th><td><span style=white-space:pre-wrap>2A                     </span>   </td><td>21                                                                </td><td><span style=white-space:pre-wrap>Entre 1 et 6 mois     </span>    </td><td>240                                                               </td><td><span style=white-space:pre-wrap>Un ordinateur       </span>      </td><td> 3                                                                </td><td>3                                                                 </td><td>&lt; 3                                                            </td><td> 10                                                               </td><td>Rarement                                                          </td><td>...                                                               </td><td><span style=white-space:pre-wrap>Rarement        </span>          </td><td>Oui                                                               </td><td><span style=white-space:pre-wrap>   10</span>                     </td><td><span style=white-space:pre-wrap>  5</span>                       </td><td>Parfois                                                           </td><td><span style=white-space:pre-wrap>Oui    </span>                   </td><td>Oui                                                               </td><td>Relativement importante                                           </td><td><span style=white-space:pre-wrap>Marquer tout en lu        </span></td><td>Non, j'ai d'autres outils pour ça                                 </td></tr>\n",
       "\t<tr><th scope=row>328</th><td><span style=white-space:pre-wrap>2A                     </span>          </td><td>21                                                                       </td><td><span style=white-space:pre-wrap>Entre 1 et 6 mois     </span>           </td><td> 14                                                                      </td><td><span style=white-space:pre-wrap>Un smartphone       </span>             </td><td> 2                                                                       </td><td>2                                                                        </td><td>&lt; 10                                                                  </td><td><span style=white-space:pre-wrap>  4</span>                              </td><td>Toujours                                                                 </td><td>...                                                                      </td><td><span style=white-space:pre-wrap>Quasiment tous  </span>                 </td><td>Oui                                                                      </td><td><span style=white-space:pre-wrap>    0</span>                            </td><td><span style=white-space:pre-wrap>  5</span>                              </td><td><span style=white-space:pre-wrap>Oui    </span>                          </td><td><span style=white-space:pre-wrap>Oui    </span>                          </td><td>Non                                                                      </td><td><span style=white-space:pre-wrap>Très importante         </span>         </td><td><span style=white-space:pre-wrap>Lire tous les mails       </span>       </td><td><span style=white-space:pre-wrap>Oui, souvent                     </span></td></tr>\n",
       "</tbody>\n",
       "</table>\n"
      ],
      "text/latex": [
       "\\begin{tabular}{r|lllllllllllllllllllll}\n",
       "  & statut & age & expérience.professionnelle & temps.passé.moyen.sur.internet & appareil.préféré.de.consultation & nombre.de.boites.mail & nombre.de.messagerie.consultées.régulièrement & fréquence.de.consultation.de.la.messagerie & nombre.de.mails.reçus.par.jour & concerné & ... & lecture.de.tous.les.mails & lecture.de.l.objet.expéditeur & nombre.de.mails.non.lus & nombre.de.mails.envoyés.par.semaine & réponse.à.des.mails.nécessitant.une.réponse & consultation.de.mails.en.dehors.des.heures.de.travail.études & personnalisation.de.la.messagerie & importance.de.l.ergonomie & sentiment.envers.de.zéro.inbox & autre.fonctionnalité.de.la.boite.mail\\\\\n",
       "\\hline\n",
       "\t5 & Enseignant                        & 33                                & Ça se compte en années            &  15                               & Un ordinateur                     &  2                                & 2                                 & > 30                              &  50                               & Souvent                           & ...                               & En grande partie                  & Oui                               &    10                             &  30                               & Oui                               & Oui                               & Oui                               & Très importante                   & Lire tous les mails               & Oui, souvent                     \\\\\n",
       "\t27 & Personnel Administratif           & 50                                & Ça se compte en années            &  30                               & Un ordinateur                     &  2                                & 2                                 & > 30                              &  50                               & Souvent                           & ...                               & Quasiment tous                    & Oui                               &     0                             & 150                               & Oui                               & Oui                               & Oui                               & Relativement importante           & Marquer tout en lu                & Oui, souvent                     \\\\\n",
       "\t44 & 1A                                & 20                                & Entre 1 et 6 mois                 &  15                               & Une montre connectée              &  3                                & 3                                 & > 30                              &  10                               & Souvent                           & ...                               & Quasiment tous                    & Oui                               &     0                             &  30                               & Oui                               & Oui                               & Oui                               & Relativement importante           & Lire tous les mails               & Oui, parfois                     \\\\\n",
       "\t78 & Autre                             & 28                                & Entre 1 et 6 mois                 &  16                               & Un ordinateur                     &  3                                & 2                                 & > 30                              &   6                               & Souvent                           & ...                               & En grande partie                  & Oui                               &     1                             &  15                               & Oui                               & Oui                               & Oui                               & Très importante                   & Marquer tout en lu                & Oui, souvent                     \\\\\n",
       "\t93 & 3A                                & 22                                & Sans Expérience                   &  16                               & Un smartphone                     &  3                                & 3                                 & > 10                              &  10                               & Rarement                          & ...                               & En grande partie                  & Oui                               &   250                             &   2                               & Parfois                           & Oui                               & Non                               & Relativement importante           & Lire tous les mails               & Oui, souvent                     \\\\\n",
       "\t104 & Master                            & 22                                & Expérience > 6 mois               &  15                               & Un ordinateur                     &  6                                & 4                                 & > 10                              &   3                               & Souvent                           & ...                               & En grande partie                  & Oui                               &    10                             &   5                               & Oui                               & Oui                               & Non                               & Très importante                   & Marquer tout en lu                & Non, j'ai d'autres outils pour ça\\\\\n",
       "\t117 & Autre                             & 24                                & Ça se compte en années            &  24                               & Une montre connectée              & 33                                & 0                                 & < 3                               & 300                               & Toujours                          & ...                               & Rarement                          & Non                               & 10000                             &   0                               & Non                               & Non                               & Non                               & Très importante                   & Avoir 10.000 mails non lus        & Ah bonne idée                    \\\\\n",
       "\t148 & 3A                                & 23                                & Expérience > 6 mois               &  16                               & Un smartphone                     &  3                                & 2                                 & < 10                              &  15                               & Souvent                           & ...                               & En grande partie                  & Oui                               &     0                             &  10                               & Oui                               & Oui                               & Oui                               & Très importante                   & Marquer tout en lu                & Oui, parfois                     \\\\\n",
       "\t162 & 3A                                & 23                                & Entre 1 et 6 mois                 &  18                               & Un smartphone                     &  5                                & 3                                 & > 10                              &  10                               & Rarement                          & ...                               & Rarement                          & Oui                               &  1054                             &  10                               & Non                               & Oui                               & Oui                               & Très importante                   & Avoir 10.000 mails non lus        & Oui, souvent                     \\\\\n",
       "\t198 & 3A                                & 22                                & Expérience > 6 mois               &  24                               & Un smartphone                     &  3                                & 3                                 & > 10                              &  12                               & Souvent                           & ...                               & En grande partie                  & Oui                               &     0                             &   4                               & Oui                               & Oui                               & Oui                               & Très importante                   & Lire tous les mails               & Oui, souvent                     \\\\\n",
       "\t211 & 3A                                & 18                                & Ça se compte en années            &  20                               & Une montre connectée              &  6                                & 8                                 & < 10                              &  55                               & Rarement                          & ...                               & Rarement                          & Oui                               &     0                             & 200                               & Non                               & Parfois                           & Non                               & Pas tellement importante          & Avoir 10.000 mails non lus        & Ah bonne idée                    \\\\\n",
       "\t224 & Master                            & 46                                & Ça se compte en années            &  30                               & Un ordinateur                     &  3                                & 3                                 & < 10                              &  10                               & Souvent                           & ...                               & En grande partie                  & Oui                               &     2                             &  20                               & Oui                               & Oui                               & Oui                               & Très importante                   & Lire tous les mails               & Oui, parfois                     \\\\\n",
       "\t256 & Personnel Administratif           & 61                                & Ça se compte en années            &  15                               & Un ordinateur                     &  1                                & 1                                 & < 10                              &  70                               & Souvent                           & ...                               & En grande partie                  & Oui                               &  7000                             & 125                               & Oui                               & Parfois                           & Oui                               & Très importante                   & Avoir 10.000 mails non lus        & Non, j'ai d'autres outils pour ça\\\\\n",
       "\t258 & Autre                             & 32                                & Expérience > 6 mois               &  16                               & Un smartphone                     &  7                                & 7                                 & < 3                               &  10                               & Toujours                          & ...                               & Quasiment tous                    & Oui                               &     0                             &  30                               & Oui                               & Oui                               & Oui                               & Très importante                   & Lire tous les mails               & Oui, souvent                     \\\\\n",
       "\t268 & 3A                                & 22                                & Entre 1 et 6 mois                 &  16                               & Un ordinateur                     &  4                                & 3                                 & < 3                               &  20                               & Rarement                          & ...                               & En grande partie                  & Oui                               &     0                             &   2                               & Oui                               & Oui                               & Non                               & Pas tellement importante          & Marquer tout en lu                & Non, j'ai d'autres outils pour ça\\\\\n",
       "\t277 & Autre                             & 32                                & Ça se compte en années            &  16                               & Un smartphone                     &  5                                & 5                                 & < 3                               &   6                               & Jamais                            & ...                               & Rarement                          & Oui                               &    30                             &   3                               & Oui                               & Oui                               & Oui                               & Relativement importante           & Marquer tout en lu                & Non, j'ai d'autres outils pour ça\\\\\n",
       "\t285 & Autre                             & 23                                & Entre 1 et 6 mois                 &  18                               & Un smartphone                     &  5                                & 3                                 & < 10                              &   5                               & Rarement                          & ...                               & Rarement                          & Oui                               &  4000                             &   2                               & Non                               & Parfois                           & Non                               & Pas tellement importante          & Marquer tout en lu                & Oui, parfois                     \\\\\n",
       "\t300 & 3A                                & 24                                & Entre 1 et 6 mois                 &  14                               & Un ordinateur                     &  5                                & 3                                 & < 10                              &  10                               & Rarement                          & ...                               & Rarement                          & Oui                               &   100                             &   3                               & Oui                               & Oui                               & Non                               & Très importante                   & Marquer tout en lu                & Oui, parfois                     \\\\\n",
       "\t301 & 2A                                & 21                                & Entre 1 et 6 mois                 & 240                               & Un ordinateur                     &  3                                & 3                                 & < 3                               &  10                               & Rarement                          & ...                               & Rarement                          & Oui                               &    10                             &   5                               & Parfois                           & Oui                               & Oui                               & Relativement importante           & Marquer tout en lu                & Non, j'ai d'autres outils pour ça\\\\\n",
       "\t328 & 2A                                & 21                                & Entre 1 et 6 mois                 &  14                               & Un smartphone                     &  2                                & 2                                 & < 10                              &   4                               & Toujours                          & ...                               & Quasiment tous                    & Oui                               &     0                             &   5                               & Oui                               & Oui                               & Non                               & Très importante                   & Lire tous les mails               & Oui, souvent                     \\\\\n",
       "\\end{tabular}\n"
      ],
      "text/markdown": [
       "\n",
       "| <!--/--> | statut | age | expérience.professionnelle | temps.passé.moyen.sur.internet | appareil.préféré.de.consultation | nombre.de.boites.mail | nombre.de.messagerie.consultées.régulièrement | fréquence.de.consultation.de.la.messagerie | nombre.de.mails.reçus.par.jour | concerné | ... | lecture.de.tous.les.mails | lecture.de.l.objet.expéditeur | nombre.de.mails.non.lus | nombre.de.mails.envoyés.par.semaine | réponse.à.des.mails.nécessitant.une.réponse | consultation.de.mails.en.dehors.des.heures.de.travail.études | personnalisation.de.la.messagerie | importance.de.l.ergonomie | sentiment.envers.de.zéro.inbox | autre.fonctionnalité.de.la.boite.mail | \n",
       "|---|---|---|---|---|---|---|---|---|---|---|---|---|---|---|---|---|---|---|---|\n",
       "| 5 | Enseignant                        | 33                                | Ça se compte en années            |  15                               | Un ordinateur                     |  2                                | 2                                 | > 30                              |  50                               | Souvent                           | ...                               | En grande partie                  | Oui                               |    10                             |  30                               | Oui                               | Oui                               | Oui                               | Très importante                   | Lire tous les mails               | Oui, souvent                      | \n",
       "| 27 | Personnel Administratif           | 50                                | Ça se compte en années            |  30                               | Un ordinateur                     |  2                                | 2                                 | > 30                              |  50                               | Souvent                           | ...                               | Quasiment tous                    | Oui                               |     0                             | 150                               | Oui                               | Oui                               | Oui                               | Relativement importante           | Marquer tout en lu                | Oui, souvent                      | \n",
       "| 44 | 1A                                | 20                                | Entre 1 et 6 mois                 |  15                               | Une montre connectée              |  3                                | 3                                 | > 30                              |  10                               | Souvent                           | ...                               | Quasiment tous                    | Oui                               |     0                             |  30                               | Oui                               | Oui                               | Oui                               | Relativement importante           | Lire tous les mails               | Oui, parfois                      | \n",
       "| 78 | Autre                             | 28                                | Entre 1 et 6 mois                 |  16                               | Un ordinateur                     |  3                                | 2                                 | > 30                              |   6                               | Souvent                           | ...                               | En grande partie                  | Oui                               |     1                             |  15                               | Oui                               | Oui                               | Oui                               | Très importante                   | Marquer tout en lu                | Oui, souvent                      | \n",
       "| 93 | 3A                                | 22                                | Sans Expérience                   |  16                               | Un smartphone                     |  3                                | 3                                 | > 10                              |  10                               | Rarement                          | ...                               | En grande partie                  | Oui                               |   250                             |   2                               | Parfois                           | Oui                               | Non                               | Relativement importante           | Lire tous les mails               | Oui, souvent                      | \n",
       "| 104 | Master                            | 22                                | Expérience > 6 mois               |  15                               | Un ordinateur                     |  6                                | 4                                 | > 10                              |   3                               | Souvent                           | ...                               | En grande partie                  | Oui                               |    10                             |   5                               | Oui                               | Oui                               | Non                               | Très importante                   | Marquer tout en lu                | Non, j'ai d'autres outils pour ça | \n",
       "| 117 | Autre                             | 24                                | Ça se compte en années            |  24                               | Une montre connectée              | 33                                | 0                                 | < 3                               | 300                               | Toujours                          | ...                               | Rarement                          | Non                               | 10000                             |   0                               | Non                               | Non                               | Non                               | Très importante                   | Avoir 10.000 mails non lus        | Ah bonne idée                     | \n",
       "| 148 | 3A                                | 23                                | Expérience > 6 mois               |  16                               | Un smartphone                     |  3                                | 2                                 | < 10                              |  15                               | Souvent                           | ...                               | En grande partie                  | Oui                               |     0                             |  10                               | Oui                               | Oui                               | Oui                               | Très importante                   | Marquer tout en lu                | Oui, parfois                      | \n",
       "| 162 | 3A                                | 23                                | Entre 1 et 6 mois                 |  18                               | Un smartphone                     |  5                                | 3                                 | > 10                              |  10                               | Rarement                          | ...                               | Rarement                          | Oui                               |  1054                             |  10                               | Non                               | Oui                               | Oui                               | Très importante                   | Avoir 10.000 mails non lus        | Oui, souvent                      | \n",
       "| 198 | 3A                                | 22                                | Expérience > 6 mois               |  24                               | Un smartphone                     |  3                                | 3                                 | > 10                              |  12                               | Souvent                           | ...                               | En grande partie                  | Oui                               |     0                             |   4                               | Oui                               | Oui                               | Oui                               | Très importante                   | Lire tous les mails               | Oui, souvent                      | \n",
       "| 211 | 3A                                | 18                                | Ça se compte en années            |  20                               | Une montre connectée              |  6                                | 8                                 | < 10                              |  55                               | Rarement                          | ...                               | Rarement                          | Oui                               |     0                             | 200                               | Non                               | Parfois                           | Non                               | Pas tellement importante          | Avoir 10.000 mails non lus        | Ah bonne idée                     | \n",
       "| 224 | Master                            | 46                                | Ça se compte en années            |  30                               | Un ordinateur                     |  3                                | 3                                 | < 10                              |  10                               | Souvent                           | ...                               | En grande partie                  | Oui                               |     2                             |  20                               | Oui                               | Oui                               | Oui                               | Très importante                   | Lire tous les mails               | Oui, parfois                      | \n",
       "| 256 | Personnel Administratif           | 61                                | Ça se compte en années            |  15                               | Un ordinateur                     |  1                                | 1                                 | < 10                              |  70                               | Souvent                           | ...                               | En grande partie                  | Oui                               |  7000                             | 125                               | Oui                               | Parfois                           | Oui                               | Très importante                   | Avoir 10.000 mails non lus        | Non, j'ai d'autres outils pour ça | \n",
       "| 258 | Autre                             | 32                                | Expérience > 6 mois               |  16                               | Un smartphone                     |  7                                | 7                                 | < 3                               |  10                               | Toujours                          | ...                               | Quasiment tous                    | Oui                               |     0                             |  30                               | Oui                               | Oui                               | Oui                               | Très importante                   | Lire tous les mails               | Oui, souvent                      | \n",
       "| 268 | 3A                                | 22                                | Entre 1 et 6 mois                 |  16                               | Un ordinateur                     |  4                                | 3                                 | < 3                               |  20                               | Rarement                          | ...                               | En grande partie                  | Oui                               |     0                             |   2                               | Oui                               | Oui                               | Non                               | Pas tellement importante          | Marquer tout en lu                | Non, j'ai d'autres outils pour ça | \n",
       "| 277 | Autre                             | 32                                | Ça se compte en années            |  16                               | Un smartphone                     |  5                                | 5                                 | < 3                               |   6                               | Jamais                            | ...                               | Rarement                          | Oui                               |    30                             |   3                               | Oui                               | Oui                               | Oui                               | Relativement importante           | Marquer tout en lu                | Non, j'ai d'autres outils pour ça | \n",
       "| 285 | Autre                             | 23                                | Entre 1 et 6 mois                 |  18                               | Un smartphone                     |  5                                | 3                                 | < 10                              |   5                               | Rarement                          | ...                               | Rarement                          | Oui                               |  4000                             |   2                               | Non                               | Parfois                           | Non                               | Pas tellement importante          | Marquer tout en lu                | Oui, parfois                      | \n",
       "| 300 | 3A                                | 24                                | Entre 1 et 6 mois                 |  14                               | Un ordinateur                     |  5                                | 3                                 | < 10                              |  10                               | Rarement                          | ...                               | Rarement                          | Oui                               |   100                             |   3                               | Oui                               | Oui                               | Non                               | Très importante                   | Marquer tout en lu                | Oui, parfois                      | \n",
       "| 301 | 2A                                | 21                                | Entre 1 et 6 mois                 | 240                               | Un ordinateur                     |  3                                | 3                                 | < 3                               |  10                               | Rarement                          | ...                               | Rarement                          | Oui                               |    10                             |   5                               | Parfois                           | Oui                               | Oui                               | Relativement importante           | Marquer tout en lu                | Non, j'ai d'autres outils pour ça | \n",
       "| 328 | 2A                                | 21                                | Entre 1 et 6 mois                 |  14                               | Un smartphone                     |  2                                | 2                                 | < 10                              |   4                               | Toujours                          | ...                               | Quasiment tous                    | Oui                               |     0                             |   5                               | Oui                               | Oui                               | Non                               | Très importante                   | Lire tous les mails               | Oui, souvent                      | \n",
       "\n",
       "\n"
      ],
      "text/plain": [
       "    statut                  age expérience.professionnelle\n",
       "5   Enseignant              33  Ça se compte en années    \n",
       "27  Personnel Administratif 50  Ça se compte en années    \n",
       "44  1A                      20  Entre 1 et 6 mois         \n",
       "78  Autre                   28  Entre 1 et 6 mois         \n",
       "93  3A                      22  Sans Expérience           \n",
       "104 Master                  22  Expérience > 6 mois       \n",
       "117 Autre                   24  Ça se compte en années    \n",
       "148 3A                      23  Expérience > 6 mois       \n",
       "162 3A                      23  Entre 1 et 6 mois         \n",
       "198 3A                      22  Expérience > 6 mois       \n",
       "211 3A                      18  Ça se compte en années    \n",
       "224 Master                  46  Ça se compte en années    \n",
       "256 Personnel Administratif 61  Ça se compte en années    \n",
       "258 Autre                   32  Expérience > 6 mois       \n",
       "268 3A                      22  Entre 1 et 6 mois         \n",
       "277 Autre                   32  Ça se compte en années    \n",
       "285 Autre                   23  Entre 1 et 6 mois         \n",
       "300 3A                      24  Entre 1 et 6 mois         \n",
       "301 2A                      21  Entre 1 et 6 mois         \n",
       "328 2A                      21  Entre 1 et 6 mois         \n",
       "    temps.passé.moyen.sur.internet appareil.préféré.de.consultation\n",
       "5    15                            Un ordinateur                   \n",
       "27   30                            Un ordinateur                   \n",
       "44   15                            Une montre connectée            \n",
       "78   16                            Un ordinateur                   \n",
       "93   16                            Un smartphone                   \n",
       "104  15                            Un ordinateur                   \n",
       "117  24                            Une montre connectée            \n",
       "148  16                            Un smartphone                   \n",
       "162  18                            Un smartphone                   \n",
       "198  24                            Un smartphone                   \n",
       "211  20                            Une montre connectée            \n",
       "224  30                            Un ordinateur                   \n",
       "256  15                            Un ordinateur                   \n",
       "258  16                            Un smartphone                   \n",
       "268  16                            Un ordinateur                   \n",
       "277  16                            Un smartphone                   \n",
       "285  18                            Un smartphone                   \n",
       "300  14                            Un ordinateur                   \n",
       "301 240                            Un ordinateur                   \n",
       "328  14                            Un smartphone                   \n",
       "    nombre.de.boites.mail nombre.de.messagerie.consultées.régulièrement\n",
       "5    2                    2                                            \n",
       "27   2                    2                                            \n",
       "44   3                    3                                            \n",
       "78   3                    2                                            \n",
       "93   3                    3                                            \n",
       "104  6                    4                                            \n",
       "117 33                    0                                            \n",
       "148  3                    2                                            \n",
       "162  5                    3                                            \n",
       "198  3                    3                                            \n",
       "211  6                    8                                            \n",
       "224  3                    3                                            \n",
       "256  1                    1                                            \n",
       "258  7                    7                                            \n",
       "268  4                    3                                            \n",
       "277  5                    5                                            \n",
       "285  5                    3                                            \n",
       "300  5                    3                                            \n",
       "301  3                    3                                            \n",
       "328  2                    2                                            \n",
       "    fréquence.de.consultation.de.la.messagerie nombre.de.mails.reçus.par.jour\n",
       "5   > 30                                        50                           \n",
       "27  > 30                                        50                           \n",
       "44  > 30                                        10                           \n",
       "78  > 30                                         6                           \n",
       "93  > 10                                        10                           \n",
       "104 > 10                                         3                           \n",
       "117 < 3                                        300                           \n",
       "148 < 10                                        15                           \n",
       "162 > 10                                        10                           \n",
       "198 > 10                                        12                           \n",
       "211 < 10                                        55                           \n",
       "224 < 10                                        10                           \n",
       "256 < 10                                        70                           \n",
       "258 < 3                                         10                           \n",
       "268 < 3                                         20                           \n",
       "277 < 3                                          6                           \n",
       "285 < 10                                         5                           \n",
       "300 < 10                                        10                           \n",
       "301 < 3                                         10                           \n",
       "328 < 10                                         4                           \n",
       "    concerné ... lecture.de.tous.les.mails lecture.de.l.objet.expéditeur\n",
       "5   Souvent  ... En grande partie          Oui                          \n",
       "27  Souvent  ... Quasiment tous            Oui                          \n",
       "44  Souvent  ... Quasiment tous            Oui                          \n",
       "78  Souvent  ... En grande partie          Oui                          \n",
       "93  Rarement ... En grande partie          Oui                          \n",
       "104 Souvent  ... En grande partie          Oui                          \n",
       "117 Toujours ... Rarement                  Non                          \n",
       "148 Souvent  ... En grande partie          Oui                          \n",
       "162 Rarement ... Rarement                  Oui                          \n",
       "198 Souvent  ... En grande partie          Oui                          \n",
       "211 Rarement ... Rarement                  Oui                          \n",
       "224 Souvent  ... En grande partie          Oui                          \n",
       "256 Souvent  ... En grande partie          Oui                          \n",
       "258 Toujours ... Quasiment tous            Oui                          \n",
       "268 Rarement ... En grande partie          Oui                          \n",
       "277 Jamais   ... Rarement                  Oui                          \n",
       "285 Rarement ... Rarement                  Oui                          \n",
       "300 Rarement ... Rarement                  Oui                          \n",
       "301 Rarement ... Rarement                  Oui                          \n",
       "328 Toujours ... Quasiment tous            Oui                          \n",
       "    nombre.de.mails.non.lus nombre.de.mails.envoyés.par.semaine\n",
       "5      10                    30                                \n",
       "27      0                   150                                \n",
       "44      0                    30                                \n",
       "78      1                    15                                \n",
       "93    250                     2                                \n",
       "104    10                     5                                \n",
       "117 10000                     0                                \n",
       "148     0                    10                                \n",
       "162  1054                    10                                \n",
       "198     0                     4                                \n",
       "211     0                   200                                \n",
       "224     2                    20                                \n",
       "256  7000                   125                                \n",
       "258     0                    30                                \n",
       "268     0                     2                                \n",
       "277    30                     3                                \n",
       "285  4000                     2                                \n",
       "300   100                     3                                \n",
       "301    10                     5                                \n",
       "328     0                     5                                \n",
       "    réponse.à.des.mails.nécessitant.une.réponse\n",
       "5   Oui                                        \n",
       "27  Oui                                        \n",
       "44  Oui                                        \n",
       "78  Oui                                        \n",
       "93  Parfois                                    \n",
       "104 Oui                                        \n",
       "117 Non                                        \n",
       "148 Oui                                        \n",
       "162 Non                                        \n",
       "198 Oui                                        \n",
       "211 Non                                        \n",
       "224 Oui                                        \n",
       "256 Oui                                        \n",
       "258 Oui                                        \n",
       "268 Oui                                        \n",
       "277 Oui                                        \n",
       "285 Non                                        \n",
       "300 Oui                                        \n",
       "301 Parfois                                    \n",
       "328 Oui                                        \n",
       "    consultation.de.mails.en.dehors.des.heures.de.travail.études\n",
       "5   Oui                                                         \n",
       "27  Oui                                                         \n",
       "44  Oui                                                         \n",
       "78  Oui                                                         \n",
       "93  Oui                                                         \n",
       "104 Oui                                                         \n",
       "117 Non                                                         \n",
       "148 Oui                                                         \n",
       "162 Oui                                                         \n",
       "198 Oui                                                         \n",
       "211 Parfois                                                     \n",
       "224 Oui                                                         \n",
       "256 Parfois                                                     \n",
       "258 Oui                                                         \n",
       "268 Oui                                                         \n",
       "277 Oui                                                         \n",
       "285 Parfois                                                     \n",
       "300 Oui                                                         \n",
       "301 Oui                                                         \n",
       "328 Oui                                                         \n",
       "    personnalisation.de.la.messagerie importance.de.l.ergonomie\n",
       "5   Oui                               Très importante          \n",
       "27  Oui                               Relativement importante  \n",
       "44  Oui                               Relativement importante  \n",
       "78  Oui                               Très importante          \n",
       "93  Non                               Relativement importante  \n",
       "104 Non                               Très importante          \n",
       "117 Non                               Très importante          \n",
       "148 Oui                               Très importante          \n",
       "162 Oui                               Très importante          \n",
       "198 Oui                               Très importante          \n",
       "211 Non                               Pas tellement importante \n",
       "224 Oui                               Très importante          \n",
       "256 Oui                               Très importante          \n",
       "258 Oui                               Très importante          \n",
       "268 Non                               Pas tellement importante \n",
       "277 Oui                               Relativement importante  \n",
       "285 Non                               Pas tellement importante \n",
       "300 Non                               Très importante          \n",
       "301 Oui                               Relativement importante  \n",
       "328 Non                               Très importante          \n",
       "    sentiment.envers.de.zéro.inbox autre.fonctionnalité.de.la.boite.mail\n",
       "5   Lire tous les mails            Oui, souvent                         \n",
       "27  Marquer tout en lu             Oui, souvent                         \n",
       "44  Lire tous les mails            Oui, parfois                         \n",
       "78  Marquer tout en lu             Oui, souvent                         \n",
       "93  Lire tous les mails            Oui, souvent                         \n",
       "104 Marquer tout en lu             Non, j'ai d'autres outils pour ça    \n",
       "117 Avoir 10.000 mails non lus     Ah bonne idée                        \n",
       "148 Marquer tout en lu             Oui, parfois                         \n",
       "162 Avoir 10.000 mails non lus     Oui, souvent                         \n",
       "198 Lire tous les mails            Oui, souvent                         \n",
       "211 Avoir 10.000 mails non lus     Ah bonne idée                        \n",
       "224 Lire tous les mails            Oui, parfois                         \n",
       "256 Avoir 10.000 mails non lus     Non, j'ai d'autres outils pour ça    \n",
       "258 Lire tous les mails            Oui, souvent                         \n",
       "268 Marquer tout en lu             Non, j'ai d'autres outils pour ça    \n",
       "277 Marquer tout en lu             Non, j'ai d'autres outils pour ça    \n",
       "285 Marquer tout en lu             Oui, parfois                         \n",
       "300 Marquer tout en lu             Oui, parfois                         \n",
       "301 Marquer tout en lu             Non, j'ai d'autres outils pour ça    \n",
       "328 Lire tous les mails            Oui, souvent                         "
      ]
     },
     "metadata": {},
     "output_type": "display_data"
    }
   ],
   "source": [
    "ouliers_idx=which(mail$temps.passé.moyen.sur.internet %in% outliers_val)\n",
    "ouliers_idx\n",
    "mail[ouliers_idx,]"
   ]
  },
  {
   "cell_type": "code",
   "execution_count": 100,
   "metadata": {},
   "outputs": [],
   "source": [
    "mail<-mail[which(mail$temps.passé.moyen.sur.internet<14),]"
   ]
  },
  {
   "cell_type": "code",
   "execution_count": 103,
   "metadata": {},
   "outputs": [
    {
     "data": {
      "image/png": "[encoded data removed]",
      "text/plain": [
       "plot without title"
      ]
     },
     "metadata": {},
     "output_type": "display_data"
    }
   ],
   "source": [
    "boxplot(mail$nombre.de.boites.mail)"
   ]
  },
  {
   "cell_type": "code",
   "execution_count": 104,
   "metadata": {},
   "outputs": [
    {
     "data": {
      "text/html": [
       "<ol class=list-inline>\n",
       "\t<li>1</li>\n",
       "\t<li>8</li>\n",
       "\t<li>1</li>\n",
       "\t<li>6</li>\n",
       "\t<li>6</li>\n",
       "\t<li>6</li>\n",
       "\t<li>10</li>\n",
       "\t<li>6</li>\n",
       "\t<li>6</li>\n",
       "\t<li>6</li>\n",
       "\t<li>1</li>\n",
       "\t<li>7</li>\n",
       "\t<li>1</li>\n",
       "\t<li>7</li>\n",
       "\t<li>10</li>\n",
       "\t<li>1</li>\n",
       "\t<li>15</li>\n",
       "\t<li>7</li>\n",
       "\t<li>6</li>\n",
       "\t<li>8</li>\n",
       "\t<li>7</li>\n",
       "\t<li>6</li>\n",
       "\t<li>7</li>\n",
       "\t<li>12</li>\n",
       "\t<li>6</li>\n",
       "\t<li>6</li>\n",
       "\t<li>6</li>\n",
       "\t<li>7</li>\n",
       "\t<li>2000</li>\n",
       "\t<li>1</li>\n",
       "\t<li>230</li>\n",
       "\t<li>6</li>\n",
       "\t<li>9</li>\n",
       "\t<li>7</li>\n",
       "\t<li>7</li>\n",
       "\t<li>8</li>\n",
       "</ol>\n"
      ],
      "text/latex": [
       "\\begin{enumerate*}\n",
       "\\item 1\n",
       "\\item 8\n",
       "\\item 1\n",
       "\\item 6\n",
       "\\item 6\n",
       "\\item 6\n",
       "\\item 10\n",
       "\\item 6\n",
       "\\item 6\n",
       "\\item 6\n",
       "\\item 1\n",
       "\\item 7\n",
       "\\item 1\n",
       "\\item 7\n",
       "\\item 10\n",
       "\\item 1\n",
       "\\item 15\n",
       "\\item 7\n",
       "\\item 6\n",
       "\\item 8\n",
       "\\item 7\n",
       "\\item 6\n",
       "\\item 7\n",
       "\\item 12\n",
       "\\item 6\n",
       "\\item 6\n",
       "\\item 6\n",
       "\\item 7\n",
       "\\item 2000\n",
       "\\item 1\n",
       "\\item 230\n",
       "\\item 6\n",
       "\\item 9\n",
       "\\item 7\n",
       "\\item 7\n",
       "\\item 8\n",
       "\\end{enumerate*}\n"
      ],
      "text/markdown": [
       "1. 1\n",
       "2. 8\n",
       "3. 1\n",
       "4. 6\n",
       "5. 6\n",
       "6. 6\n",
       "7. 10\n",
       "8. 6\n",
       "9. 6\n",
       "10. 6\n",
       "11. 1\n",
       "12. 7\n",
       "13. 1\n",
       "14. 7\n",
       "15. 10\n",
       "16. 1\n",
       "17. 15\n",
       "18. 7\n",
       "19. 6\n",
       "20. 8\n",
       "21. 7\n",
       "22. 6\n",
       "23. 7\n",
       "24. 12\n",
       "25. 6\n",
       "26. 6\n",
       "27. 6\n",
       "28. 7\n",
       "29. 2000\n",
       "30. 1\n",
       "31. 230\n",
       "32. 6\n",
       "33. 9\n",
       "34. 7\n",
       "35. 7\n",
       "36. 8\n",
       "\n",
       "\n"
      ],
      "text/plain": [
       " [1]    1    8    1    6    6    6   10    6    6    6    1    7    1    7   10\n",
       "[16]    1   15    7    6    8    7    6    7   12    6    6    6    7 2000    1\n",
       "[31]  230    6    9    7    7    8"
      ]
     },
     "metadata": {},
     "output_type": "display_data"
    }
   ],
   "source": [
    "outliers_val=boxplot.stats(mail$nombre.de.boites.mail)$out\n",
    "outliers_val"
   ]
  },
  {
   "cell_type": "code",
   "execution_count": 105,
   "metadata": {},
   "outputs": [
    {
     "data": {
      "text/html": [
       "2"
      ],
      "text/latex": [
       "2"
      ],
      "text/markdown": [
       "2"
      ],
      "text/plain": [
       "[1] 2"
      ]
     },
     "metadata": {},
     "output_type": "display_data"
    }
   ],
   "source": [
    "nrow(mail[which(mail$nombre.de.boites.mail>15),])"
   ]
  },
  {
   "cell_type": "code",
   "execution_count": 106,
   "metadata": {},
   "outputs": [],
   "source": [
    "mail<-mail[which(mail$nombre.de.boites.mail<16),]"
   ]
  },
  {
   "cell_type": "code",
   "execution_count": 109,
   "metadata": {},
   "outputs": [
    {
     "data": {
      "text/html": [
       "400"
      ],
      "text/latex": [
       "400"
      ],
      "text/markdown": [
       "400"
      ],
      "text/plain": [
       "[1] 400"
      ]
     },
     "metadata": {},
     "output_type": "display_data"
    }
   ],
   "source": [
    "nrow(mail)"
   ]
  },
  {
   "cell_type": "code",
   "execution_count": 108,
   "metadata": {},
   "outputs": [],
   "source": [
    "write.csv(mail, file = \"clean_data.csv\")"
   ]
  },
  {
   "cell_type": "code",
   "execution_count": null,
   "metadata": {},
   "outputs": [],
   "source": []
  }
 ],
 "metadata": {
  "kernelspec": {
   "display_name": "R",
   "language": "R",
   "name": "ir"
  },
  "language_info": {
   "codemirror_mode": "r",
   "file_extension": ".r",
   "mimetype": "text/x-r-source",
   "name": "R",
   "pygments_lexer": "r",
   "version": "3.5.1"
  }
 },
 "nbformat": 4,
 "nbformat_minor": 2
}
