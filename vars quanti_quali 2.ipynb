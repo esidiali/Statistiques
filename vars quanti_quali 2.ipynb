{
 "cells": [
  {
   "cell_type": "markdown",
   "metadata": {},
   "source": [
    "vars quantis & qualis"
   ]
  },
  {
   "cell_type": "code",
   "execution_count": 38,
   "metadata": {},
   "outputs": [
    {
     "name": "stderr",
     "output_type": "stream",
     "text": [
      "Loading required package: magrittr\n"
     ]
    }
   ],
   "source": [
    "library(\"ggplot2\")\n",
    "library(\"ggpubr\")\n",
    "library(\"gplots\")"
   ]
  },
  {
   "cell_type": "code",
   "execution_count": 3,
   "metadata": {},
   "outputs": [
    {
     "name": "stderr",
     "output_type": "stream",
     "text": [
      "The following objects are masked from data (pos = 3):\n",
      "\n",
      "    age, appareil.préféré.de.consultation,\n",
      "    autre.fonctionnalité.de.la.boite.mail, concerné,\n",
      "    consultation.de.mails.en.dehors.des.heures.de.travail.études,\n",
      "    expérience.professionnelle,\n",
      "    fréquence.de.consultation.de.la.messagerie,\n",
      "    importance.de.l.ergonomie, lecture.de.l.objet.expéditeur,\n",
      "    lecture.de.tous.les.mails, nombre.de.boites.mail,\n",
      "    nombre.de.mails.envoyés.par.semaine, nombre.de.mails.non.lus,\n",
      "    nombre.de.mails.reçus.par.jour,\n",
      "    nombre.de.messagerie.consultées.régulièrement,\n",
      "    notification.de.mails, personnalisation.de.la.messagerie,\n",
      "    réponse.à.des.mails.nécessitant.une.réponse,\n",
      "    sentiment.envers.de.zéro.inbox, statut,\n",
      "    temps.passé.moyen.sur.internet, X\n",
      "\n"
     ]
    },
    {
     "data": {
      "text/html": [
       "<table>\n",
       "<thead><tr><th scope=col>X</th><th scope=col>statut</th><th scope=col>age</th><th scope=col>expérience.professionnelle</th><th scope=col>temps.passé.moyen.sur.internet</th><th scope=col>appareil.préféré.de.consultation</th><th scope=col>nombre.de.boites.mail</th><th scope=col>nombre.de.messagerie.consultées.régulièrement</th><th scope=col>fréquence.de.consultation.de.la.messagerie</th><th scope=col>nombre.de.mails.reçus.par.jour</th><th scope=col>...</th><th scope=col>lecture.de.tous.les.mails</th><th scope=col>lecture.de.l.objet.expéditeur</th><th scope=col>nombre.de.mails.non.lus</th><th scope=col>nombre.de.mails.envoyés.par.semaine</th><th scope=col>réponse.à.des.mails.nécessitant.une.réponse</th><th scope=col>consultation.de.mails.en.dehors.des.heures.de.travail.études</th><th scope=col>personnalisation.de.la.messagerie</th><th scope=col>importance.de.l.ergonomie</th><th scope=col>sentiment.envers.de.zéro.inbox</th><th scope=col>autre.fonctionnalité.de.la.boite.mail</th></tr></thead>\n",
       "<tbody>\n",
       "\t<tr><td>1                                                                </td><td><span style=white-space:pre-wrap>3A        </span>               </td><td>23                                                               </td><td><span style=white-space:pre-wrap>Expérience &gt; 6 mois   </span></td><td>6                                                                </td><td>Un ordinateur                                                    </td><td>3                                                                </td><td>2                                                                </td><td>&lt; 10                                                          </td><td> 5                                                               </td><td>...                                                              </td><td>En grande partie                                                 </td><td>Oui                                                              </td><td>0                                                                </td><td><span style=white-space:pre-wrap>  4</span>                      </td><td><span style=white-space:pre-wrap>Oui    </span>                  </td><td>Oui                                                              </td><td>Non                                                              </td><td>Relativement importante                                          </td><td>Marquer tout en lu                                               </td><td>Non, j'ai d'autres outils pour ça                                </td></tr>\n",
       "\t<tr><td>2                                                                        </td><td>Enseignant                                                               </td><td>34                                                                       </td><td>Ça se compte en années                                                   </td><td>7                                                                        </td><td>Un ordinateur                                                            </td><td>3                                                                        </td><td>2                                                                        </td><td>&gt; 10                                                                  </td><td>50                                                                       </td><td>...                                                                      </td><td><span style=white-space:pre-wrap>Quasiment tous  </span>                 </td><td>Oui                                                                      </td><td>5                                                                        </td><td>100                                                                      </td><td><span style=white-space:pre-wrap>Oui    </span>                          </td><td>Oui                                                                      </td><td>Oui                                                                      </td><td><span style=white-space:pre-wrap>Très importante        </span>          </td><td>Lire tous les mails                                                      </td><td><span style=white-space:pre-wrap>Oui, souvent                     </span></td></tr>\n",
       "\t<tr><td>3                                                             </td><td><span style=white-space:pre-wrap>1A        </span>            </td><td>20                                                            </td><td><span style=white-space:pre-wrap>Entre 1 et 6 mois     </span></td><td>4                                                             </td><td>Un smartphone                                                 </td><td>5                                                             </td><td>4                                                             </td><td>&lt; 3                                                        </td><td> 2                                                            </td><td>...                                                           </td><td><span style=white-space:pre-wrap>Rarement        </span>      </td><td>Oui                                                           </td><td>0                                                             </td><td><span style=white-space:pre-wrap>  1</span>                   </td><td><span style=white-space:pre-wrap>Oui    </span>               </td><td>Non                                                           </td><td>Non                                                           </td><td>Relativement importante                                       </td><td>Marquer tout en lu                                            </td><td>Non, j'ai d'autres outils pour ça                             </td></tr>\n",
       "\t<tr><td>4                                                                        </td><td><span style=white-space:pre-wrap>Autre     </span>                       </td><td>26                                                                       </td><td><span style=white-space:pre-wrap>Expérience &gt; 6 mois   </span>        </td><td>8                                                                        </td><td>Un ordinateur                                                            </td><td>2                                                                        </td><td>2                                                                        </td><td>&gt; 10                                                                  </td><td>10                                                                       </td><td>...                                                                      </td><td><span style=white-space:pre-wrap>Rarement        </span>                 </td><td>Oui                                                                      </td><td>0                                                                        </td><td><span style=white-space:pre-wrap>  3</span>                              </td><td>Parfois                                                                  </td><td>Non                                                                      </td><td>Oui                                                                      </td><td>Relativement importante                                                  </td><td>Marquer tout en lu                                                       </td><td><span style=white-space:pre-wrap>Oui, parfois                     </span></td></tr>\n",
       "\t<tr><td>6                                                       </td><td>Enseignant                                              </td><td>35                                                      </td><td>Ça se compte en années                                  </td><td>5                                                       </td><td>Un ordinateur                                           </td><td>2                                                       </td><td>2                                                       </td><td>&gt; 10                                                 </td><td>20                                                      </td><td>...                                                     </td><td><span style=white-space:pre-wrap>Rarement        </span></td><td>Oui                                                     </td><td>0                                                       </td><td> 50                                                     </td><td><span style=white-space:pre-wrap>Oui    </span>         </td><td>Oui                                                     </td><td>Non                                                     </td><td>Relativement importante                                 </td><td>Marquer tout en lu                                      </td><td>Non, j'ai d'autres outils pour ça                       </td></tr>\n",
       "</tbody>\n",
       "</table>\n"
      ],
      "text/latex": [
       "\\begin{tabular}{r|llllllllllllllllllllll}\n",
       " X & statut & age & expérience.professionnelle & temps.passé.moyen.sur.internet & appareil.préféré.de.consultation & nombre.de.boites.mail & nombre.de.messagerie.consultées.régulièrement & fréquence.de.consultation.de.la.messagerie & nombre.de.mails.reçus.par.jour & ... & lecture.de.tous.les.mails & lecture.de.l.objet.expéditeur & nombre.de.mails.non.lus & nombre.de.mails.envoyés.par.semaine & réponse.à.des.mails.nécessitant.une.réponse & consultation.de.mails.en.dehors.des.heures.de.travail.études & personnalisation.de.la.messagerie & importance.de.l.ergonomie & sentiment.envers.de.zéro.inbox & autre.fonctionnalité.de.la.boite.mail\\\\\n",
       "\\hline\n",
       "\t 1                                 & 3A                                & 23                                & Expérience > 6 mois               & 6                                 & Un ordinateur                     & 3                                 & 2                                 & < 10                              &  5                                & ...                               & En grande partie                  & Oui                               & 0                                 &   4                               & Oui                               & Oui                               & Non                               & Relativement importante           & Marquer tout en lu                & Non, j'ai d'autres outils pour ça\\\\\n",
       "\t 2                                 & Enseignant                        & 34                                & Ça se compte en années            & 7                                 & Un ordinateur                     & 3                                 & 2                                 & > 10                              & 50                                & ...                               & Quasiment tous                    & Oui                               & 5                                 & 100                               & Oui                               & Oui                               & Oui                               & Très importante                   & Lire tous les mails               & Oui, souvent                     \\\\\n",
       "\t 3                                 & 1A                                & 20                                & Entre 1 et 6 mois                 & 4                                 & Un smartphone                     & 5                                 & 4                                 & < 3                               &  2                                & ...                               & Rarement                          & Oui                               & 0                                 &   1                               & Oui                               & Non                               & Non                               & Relativement importante           & Marquer tout en lu                & Non, j'ai d'autres outils pour ça\\\\\n",
       "\t 4                                 & Autre                             & 26                                & Expérience > 6 mois               & 8                                 & Un ordinateur                     & 2                                 & 2                                 & > 10                              & 10                                & ...                               & Rarement                          & Oui                               & 0                                 &   3                               & Parfois                           & Non                               & Oui                               & Relativement importante           & Marquer tout en lu                & Oui, parfois                     \\\\\n",
       "\t 6                                 & Enseignant                        & 35                                & Ça se compte en années            & 5                                 & Un ordinateur                     & 2                                 & 2                                 & > 10                              & 20                                & ...                               & Rarement                          & Oui                               & 0                                 &  50                               & Oui                               & Oui                               & Non                               & Relativement importante           & Marquer tout en lu                & Non, j'ai d'autres outils pour ça\\\\\n",
       "\\end{tabular}\n"
      ],
      "text/markdown": [
       "\n",
       "X | statut | age | expérience.professionnelle | temps.passé.moyen.sur.internet | appareil.préféré.de.consultation | nombre.de.boites.mail | nombre.de.messagerie.consultées.régulièrement | fréquence.de.consultation.de.la.messagerie | nombre.de.mails.reçus.par.jour | ... | lecture.de.tous.les.mails | lecture.de.l.objet.expéditeur | nombre.de.mails.non.lus | nombre.de.mails.envoyés.par.semaine | réponse.à.des.mails.nécessitant.une.réponse | consultation.de.mails.en.dehors.des.heures.de.travail.études | personnalisation.de.la.messagerie | importance.de.l.ergonomie | sentiment.envers.de.zéro.inbox | autre.fonctionnalité.de.la.boite.mail | \n",
       "|---|---|---|---|---|\n",
       "| 1                                 | 3A                                | 23                                | Expérience > 6 mois               | 6                                 | Un ordinateur                     | 3                                 | 2                                 | < 10                              |  5                                | ...                               | En grande partie                  | Oui                               | 0                                 |   4                               | Oui                               | Oui                               | Non                               | Relativement importante           | Marquer tout en lu                | Non, j'ai d'autres outils pour ça | \n",
       "| 2                                 | Enseignant                        | 34                                | Ça se compte en années            | 7                                 | Un ordinateur                     | 3                                 | 2                                 | > 10                              | 50                                | ...                               | Quasiment tous                    | Oui                               | 5                                 | 100                               | Oui                               | Oui                               | Oui                               | Très importante                   | Lire tous les mails               | Oui, souvent                      | \n",
       "| 3                                 | 1A                                | 20                                | Entre 1 et 6 mois                 | 4                                 | Un smartphone                     | 5                                 | 4                                 | < 3                               |  2                                | ...                               | Rarement                          | Oui                               | 0                                 |   1                               | Oui                               | Non                               | Non                               | Relativement importante           | Marquer tout en lu                | Non, j'ai d'autres outils pour ça | \n",
       "| 4                                 | Autre                             | 26                                | Expérience > 6 mois               | 8                                 | Un ordinateur                     | 2                                 | 2                                 | > 10                              | 10                                | ...                               | Rarement                          | Oui                               | 0                                 |   3                               | Parfois                           | Non                               | Oui                               | Relativement importante           | Marquer tout en lu                | Oui, parfois                      | \n",
       "| 6                                 | Enseignant                        | 35                                | Ça se compte en années            | 5                                 | Un ordinateur                     | 2                                 | 2                                 | > 10                              | 20                                | ...                               | Rarement                          | Oui                               | 0                                 |  50                               | Oui                               | Oui                               | Non                               | Relativement importante           | Marquer tout en lu                | Non, j'ai d'autres outils pour ça | \n",
       "\n",
       "\n"
      ],
      "text/plain": [
       "  X statut     age expérience.professionnelle temps.passé.moyen.sur.internet\n",
       "1 1 3A         23  Expérience > 6 mois        6                             \n",
       "2 2 Enseignant 34  Ça se compte en années     7                             \n",
       "3 3 1A         20  Entre 1 et 6 mois          4                             \n",
       "4 4 Autre      26  Expérience > 6 mois        8                             \n",
       "5 6 Enseignant 35  Ça se compte en années     5                             \n",
       "  appareil.préféré.de.consultation nombre.de.boites.mail\n",
       "1 Un ordinateur                    3                    \n",
       "2 Un ordinateur                    3                    \n",
       "3 Un smartphone                    5                    \n",
       "4 Un ordinateur                    2                    \n",
       "5 Un ordinateur                    2                    \n",
       "  nombre.de.messagerie.consultées.régulièrement\n",
       "1 2                                            \n",
       "2 2                                            \n",
       "3 4                                            \n",
       "4 2                                            \n",
       "5 2                                            \n",
       "  fréquence.de.consultation.de.la.messagerie nombre.de.mails.reçus.par.jour ...\n",
       "1 < 10                                        5                             ...\n",
       "2 > 10                                       50                             ...\n",
       "3 < 3                                         2                             ...\n",
       "4 > 10                                       10                             ...\n",
       "5 > 10                                       20                             ...\n",
       "  lecture.de.tous.les.mails lecture.de.l.objet.expéditeur\n",
       "1 En grande partie          Oui                          \n",
       "2 Quasiment tous            Oui                          \n",
       "3 Rarement                  Oui                          \n",
       "4 Rarement                  Oui                          \n",
       "5 Rarement                  Oui                          \n",
       "  nombre.de.mails.non.lus nombre.de.mails.envoyés.par.semaine\n",
       "1 0                         4                                \n",
       "2 5                       100                                \n",
       "3 0                         1                                \n",
       "4 0                         3                                \n",
       "5 0                        50                                \n",
       "  réponse.à.des.mails.nécessitant.une.réponse\n",
       "1 Oui                                        \n",
       "2 Oui                                        \n",
       "3 Oui                                        \n",
       "4 Parfois                                    \n",
       "5 Oui                                        \n",
       "  consultation.de.mails.en.dehors.des.heures.de.travail.études\n",
       "1 Oui                                                         \n",
       "2 Oui                                                         \n",
       "3 Non                                                         \n",
       "4 Non                                                         \n",
       "5 Oui                                                         \n",
       "  personnalisation.de.la.messagerie importance.de.l.ergonomie\n",
       "1 Non                               Relativement importante  \n",
       "2 Oui                               Très importante          \n",
       "3 Non                               Relativement importante  \n",
       "4 Oui                               Relativement importante  \n",
       "5 Non                               Relativement importante  \n",
       "  sentiment.envers.de.zéro.inbox autre.fonctionnalité.de.la.boite.mail\n",
       "1 Marquer tout en lu             Non, j'ai d'autres outils pour ça    \n",
       "2 Lire tous les mails            Oui, souvent                         \n",
       "3 Marquer tout en lu             Non, j'ai d'autres outils pour ça    \n",
       "4 Marquer tout en lu             Oui, parfois                         \n",
       "5 Marquer tout en lu             Non, j'ai d'autres outils pour ça    "
      ]
     },
     "metadata": {},
     "output_type": "display_data"
    }
   ],
   "source": [
    "data=read.csv(file.choose(),header=T,sep=\",\")\n",
    "attach(data)\n",
    "data[1:5,]"
   ]
  },
  {
   "cell_type": "markdown",
   "metadata": {},
   "source": [
    "############ age & fréquence de consultation"
   ]
  },
  {
   "cell_type": "code",
   "execution_count": 53,
   "metadata": {},
   "outputs": [
    {
     "data": {},
     "metadata": {},
     "output_type": "display_data"
    },
    {
     "data": {
      "image/png": "[encoded data removed]",
      "text/plain": [
       "plot without title"
      ]
     },
     "metadata": {},
     "output_type": "display_data"
    }
   ],
   "source": [
    "# boxplot(age~fréquence.de.consultation.de.la.messagerie)\n",
    "ggboxplot(data, x = \"fréquence.de.consultation.de.la.messagerie\", y = \"age\", color = \"fréquence.de.consultation.de.la.messagerie\", ylab = \"age\"\n",
    "          , xlab = \"fréquence de consultation\")"
   ]
  },
  {
   "cell_type": "markdown",
   "metadata": {},
   "source": [
    "comparaison des variances des ages selon la fréquence de consultation"
   ]
  },
  {
   "cell_type": "code",
   "execution_count": 6,
   "metadata": {},
   "outputs": [
    {
     "data": {
      "text/plain": [
       "                                            Df Sum Sq Mean Sq F value Pr(>F)\n",
       "fréquence.de.consultation.de.la.messagerie   3   9156  3052.0   44.54 <2e-16\n",
       "Residuals                                  396  27135    68.5               \n",
       "                                              \n",
       "fréquence.de.consultation.de.la.messagerie ***\n",
       "Residuals                                     \n",
       "---\n",
       "Signif. codes:  0 '***' 0.001 '**' 0.01 '*' 0.05 '.' 0.1 ' ' 1"
      ]
     },
     "metadata": {},
     "output_type": "display_data"
    }
   ],
   "source": [
    "summary(aov(age~fréquence.de.consultation.de.la.messagerie))"
   ]
  },
  {
   "cell_type": "markdown",
   "metadata": {},
   "source": [
    "la p value est significative ==> les variances peuvent être considérés égales.\n",
    "Vérifions la distribution:"
   ]
  },
  {
   "cell_type": "code",
   "execution_count": 47,
   "metadata": {},
   "outputs": [
    {
     "data": {
      "image/png": "[encoded data removed]",
      "text/plain": [
       "Plot with title \"freq > 30\""
      ]
     },
     "metadata": {},
     "output_type": "display_data"
    }
   ],
   "source": [
    "par(mfrow=c(2,2))\n",
    "barplot(table(age[fréquence.de.consultation.de.la.messagerie==\"< 3\"]),main=\"freq < 3\",font.main=2,cex.main=0.9,col=\"paleturquoise1\")\n",
    "barplot(table(age[fréquence.de.consultation.de.la.messagerie==\"< 10\"]),main=\"freq < 10\",font.main=2,cex.main=0.9,col=\"paleturquoise2\")\n",
    "barplot(table(age[fréquence.de.consultation.de.la.messagerie==\"> 10\"]),main=\"freq > 10\",font.main=2,cex.main=0.9,col=\"paleturquoise3\")\n",
    "barplot(table(age[fréquence.de.consultation.de.la.messagerie==\"> 30\"]),main=\"freq > 30\",font.main=2,cex.main=0.9,col=\"paleturquoise4\")\n",
    "\n",
    "\n",
    "\n"
   ]
  },
  {
   "cell_type": "markdown",
   "metadata": {},
   "source": [
    "La normalité n'est vraiment pas respectée ! Il est donc nécessaire d'utiliser un test non\n",
    "paramétrique :"
   ]
  },
  {
   "cell_type": "code",
   "execution_count": 9,
   "metadata": {},
   "outputs": [
    {
     "data": {
      "text/plain": [
       "\n",
       "\tKruskal-Wallis rank sum test\n",
       "\n",
       "data:  age by fréquence.de.consultation.de.la.messagerie\n",
       "Kruskal-Wallis chi-squared = 86.824, df = 3, p-value < 2.2e-16\n"
      ]
     },
     "metadata": {},
     "output_type": "display_data"
    }
   ],
   "source": [
    "kruskal.test(age~fréquence.de.consultation.de.la.messagerie)"
   ]
  },
  {
   "cell_type": "markdown",
   "metadata": {},
   "source": [
    "p value significative ==> lien existant"
   ]
  },
  {
   "cell_type": "markdown",
   "metadata": {},
   "source": [
    "#################notification  & temps passés sur internet"
   ]
  },
  {
   "cell_type": "code",
   "execution_count": 43,
   "metadata": {},
   "outputs": [
    {
     "data": {},
     "metadata": {},
     "output_type": "display_data"
    },
    {
     "data": {
      "image/png": "[encoded data removed]",
      "text/plain": [
       "plot without title"
      ]
     },
     "metadata": {},
     "output_type": "display_data"
    }
   ],
   "source": [
    "# boxplot(temps.passé.moyen.sur.internet~notification.de.mails)\n",
    "ggboxplot(data, x = \"notification.de.mails\", y = \"temps.passé.moyen.sur.internet\", color = \"notification.de.mails\", ylab = \"temps passé moyen sur internet\"\n",
    "          , xlab = \"notification de mails\")"
   ]
  },
  {
   "cell_type": "code",
   "execution_count": 11,
   "metadata": {},
   "outputs": [
    {
     "data": {
      "text/plain": [
       "                       Df Sum Sq Mean Sq F value  Pr(>F)    \n",
       "notification.de.mails   1   66.5   66.49   12.21 0.00053 ***\n",
       "Residuals             398 2168.3    5.45                    \n",
       "---\n",
       "Signif. codes:  0 '***' 0.001 '**' 0.01 '*' 0.05 '.' 0.1 ' ' 1"
      ]
     },
     "metadata": {},
     "output_type": "display_data"
    }
   ],
   "source": [
    "summary(aov(temps.passé.moyen.sur.internet~notification.de.mails))"
   ]
  },
  {
   "cell_type": "markdown",
   "metadata": {},
   "source": [
    "p value très petite==> égalité des variances"
   ]
  },
  {
   "cell_type": "code",
   "execution_count": 57,
   "metadata": {},
   "outputs": [
    {
     "data": {
      "image/png": "[encoded data removed]",
      "text/plain": [
       "Plot with title \"sans notification\""
      ]
     },
     "metadata": {},
     "output_type": "display_data"
    }
   ],
   "source": [
    "par(mfrow=c(1,2))\n",
    "barplot(table(temps.passé.moyen.sur.internet[notification.de.mails==\"Oui\"]),main=\"avec notification\",font.main=2,cex.main=0.9,col=\"purple\")\n",
    "barplot(table(temps.passé.moyen.sur.internet[notification.de.mails==\"Non\"]),main=\"sans notification\",font.main=2,cex.main=0.9,col=\"purple4\")\n"
   ]
  },
  {
   "cell_type": "code",
   "execution_count": 21,
   "metadata": {},
   "outputs": [
    {
     "data": {
      "text/plain": [
       "\n",
       "\tShapiro-Wilk normality test\n",
       "\n",
       "data:  table(temps.passé.moyen.sur.internet[notification.de.mails ==     \"Oui\"])\n",
       "W = 0.93554, p-value = 0.4696\n"
      ]
     },
     "metadata": {},
     "output_type": "display_data"
    },
    {
     "data": {
      "text/plain": [
       "\n",
       "\tShapiro-Wilk normality test\n",
       "\n",
       "data:  table(temps.passé.moyen.sur.internet[notification.de.mails ==     \"Non\"])\n",
       "W = 0.94103, p-value = 0.5645\n"
      ]
     },
     "metadata": {},
     "output_type": "display_data"
    }
   ],
   "source": [
    "shapiro.test(table(temps.passé.moyen.sur.internet[notification.de.mails==\"Oui\"]))\n",
    "shapiro.test(table(temps.passé.moyen.sur.internet[notification.de.mails==\"Non\"]))"
   ]
  },
  {
   "cell_type": "markdown",
   "metadata": {},
   "source": [
    "P value significative==> Les deux variables  suivent pas une loi normale, on peut donc utiliser le T de Student"
   ]
  },
  {
   "cell_type": "code",
   "execution_count": 22,
   "metadata": {},
   "outputs": [
    {
     "data": {
      "text/plain": [
       "\n",
       "\tWelch Two Sample t-test\n",
       "\n",
       "data:  temps.passé.moyen.sur.internet by notification.de.mails\n",
       "t = -3.506, df = 337.03, p-value = 0.0005165\n",
       "alternative hypothesis: true difference in means is not equal to 0\n",
       "95 percent confidence interval:\n",
       " -1.3033928 -0.3664979\n",
       "sample estimates:\n",
       "mean in group Non mean in group Oui \n",
       "         4.547771          5.382716 \n"
      ]
     },
     "metadata": {},
     "output_type": "display_data"
    }
   ],
   "source": [
    "t.test(temps.passé.moyen.sur.internet~notification.de.mails)"
   ]
  },
  {
   "cell_type": "markdown",
   "metadata": {},
   "source": [
    "on peut conclure que les gens qui reçoivent des notifications passent plus de temps sur internet"
   ]
  },
  {
   "cell_type": "markdown",
   "metadata": {},
   "source": [
    "############\"nb mails envoyés & exp Pro"
   ]
  },
  {
   "cell_type": "code",
   "execution_count": 63,
   "metadata": {},
   "outputs": [
    {
     "data": {},
     "metadata": {},
     "output_type": "display_data"
    },
    {
     "data": {
      "image/png": "[encoded data removed]",
      "text/plain": [
       "plot without title"
      ]
     },
     "metadata": {},
     "output_type": "display_data"
    }
   ],
   "source": [
    "# boxplot(nombre.de.mails.envoyés.par.semaine~expérience.professionnelle)\n",
    "ggboxplot(data, x = \"expérience.professionnelle\", y = \"nombre.de.mails.envoyés.par.semaine\", color = \"expérience.professionnelle\", ylab = \"nombre de mails envoyés par S\"\n",
    "          , xlab = \"niveau d'expérience professionnelle\")"
   ]
  },
  {
   "cell_type": "code",
   "execution_count": 58,
   "metadata": {},
   "outputs": [
    {
     "data": {
      "image/png": "[encoded data removed]",
      "text/plain": [
       "Plot with title \"Ça se compte en années\""
      ]
     },
     "metadata": {},
     "output_type": "display_data"
    }
   ],
   "source": [
    "par(mfrow=c(2,2))\n",
    "barplot(table(nombre.de.mails.envoyés.par.semaine[expérience.professionnelle==\"Sans Expérience\"]),main=\"Sans Expérience\",font.main=2,cex.main=0.9,col=\"olivedrab1\")\n",
    "barplot(table(nombre.de.mails.envoyés.par.semaine[expérience.professionnelle==\"Entre 1 et 6 mois\"]),main=\"Entre 1 et 6 mois\",font.main=2,cex.main=0.9,col=\"olivedrab2\")\n",
    "barplot(table(nombre.de.mails.envoyés.par.semaine[expérience.professionnelle==\"Expérience > 6 mois\"]),main=\"Expérience > 6 mois\",font.main=2,cex.main=0.9,col=\"olivedrab3\")\n",
    "barplot(table(nombre.de.mails.envoyés.par.semaine[expérience.professionnelle==\"Ça se compte en années\"]),main=\"Ça se compte en années\",font.main=2,cex.main=0.9,col=\"olivedrab4\")\n",
    "\n"
   ]
  },
  {
   "cell_type": "code",
   "execution_count": 23,
   "metadata": {},
   "outputs": [
    {
     "data": {
      "text/plain": [
       "\n",
       "\tKruskal-Wallis rank sum test\n",
       "\n",
       "data:  nombre.de.mails.envoyés.par.semaine by expérience.professionnelle\n",
       "Kruskal-Wallis chi-squared = 121.37, df = 3, p-value < 2.2e-16\n"
      ]
     },
     "metadata": {},
     "output_type": "display_data"
    }
   ],
   "source": [
    "kruskal.test(nombre.de.mails.envoyés.par.semaine~expérience.professionnelle)"
   ]
  },
  {
   "cell_type": "markdown",
   "metadata": {},
   "source": [
    "############### nombre de mails non lus & consultation de la boite en dehors des heures de travail"
   ]
  },
  {
   "cell_type": "code",
   "execution_count": 46,
   "metadata": {},
   "outputs": [
    {
     "data": {},
     "metadata": {},
     "output_type": "display_data"
    },
    {
     "data": {
      "image/png": "[encoded data removed]",
      "text/plain": [
       "plot without title"
      ]
     },
     "metadata": {},
     "output_type": "display_data"
    }
   ],
   "source": [
    "# boxplot(nombre.de.boites.mail~personnalisation.de.la.messagerie)\n",
    "ggboxplot(data, x = \"personnalisation.de.la.messagerie\", y = \"nombre.de.boites.mail\", color = \"personnalisation.de.la.messagerie\", ylab = \"nombre de boites mails\"\n",
    "          , xlab = \"personnalisation de la messagerie\")"
   ]
  },
  {
   "cell_type": "code",
   "execution_count": 59,
   "metadata": {},
   "outputs": [
    {
     "data": {
      "image/png": "[encoded data removed]",
      "text/plain": [
       "Plot with title \"Non\""
      ]
     },
     "metadata": {},
     "output_type": "display_data"
    }
   ],
   "source": [
    "par(mfrow=c(1,2))\n",
    "barplot(table(nombre.de.boites.mail[personnalisation.de.la.messagerie==\"Oui\"]),main=\"Oui\",font.main=2,cex.main=0.9,col=\"mediumpurple4\")\n",
    "barplot(table(nombre.de.boites.mail[personnalisation.de.la.messagerie==\"Non\"]),main=\"Non\",font.main=2,cex.main=0.9,col=\"mediumseagreen\")"
   ]
  },
  {
   "cell_type": "code",
   "execution_count": 33,
   "metadata": {},
   "outputs": [
    {
     "data": {
      "text/plain": [
       "\n",
       "\tShapiro-Wilk normality test\n",
       "\n",
       "data:  table(nombre.de.boites.mail[personnalisation.de.la.messagerie ==     \"Oui\"])\n",
       "W = 0.71213, p-value = 0.001105\n"
      ]
     },
     "metadata": {},
     "output_type": "display_data"
    },
    {
     "data": {
      "text/plain": [
       "\n",
       "\tShapiro-Wilk normality test\n",
       "\n",
       "data:  table(nombre.de.boites.mail[personnalisation.de.la.messagerie ==     \"Non\"])\n",
       "W = 0.81588, p-value = 0.04222\n"
      ]
     },
     "metadata": {},
     "output_type": "display_data"
    }
   ],
   "source": [
    "shapiro.test(table(nombre.de.boites.mail[personnalisation.de.la.messagerie==\"Oui\"]))\n",
    "shapiro.test(table(nombre.de.boites.mail[personnalisation.de.la.messagerie==\"Non\"]))"
   ]
  },
  {
   "cell_type": "markdown",
   "metadata": {},
   "source": [
    "p value significative ==> la variable quantitative ne suit pas une loi normale==> test de wilcox"
   ]
  },
  {
   "cell_type": "code",
   "execution_count": 35,
   "metadata": {},
   "outputs": [
    {
     "data": {
      "text/plain": [
       "                                   Df Sum Sq Mean Sq F value  Pr(>F)   \n",
       "personnalisation.de.la.messagerie   1   18.1  18.137   7.938 0.00508 **\n",
       "Residuals                         398  909.4   2.285                   \n",
       "---\n",
       "Signif. codes:  0 '***' 0.001 '**' 0.01 '*' 0.05 '.' 0.1 ' ' 1"
      ]
     },
     "metadata": {},
     "output_type": "display_data"
    }
   ],
   "source": [
    "summary(aov(nombre.de.boites.mail~personnalisation.de.la.messagerie))"
   ]
  },
  {
   "cell_type": "markdown",
   "metadata": {},
   "source": [
    "P value faible ==> égalité des variances"
   ]
  },
  {
   "cell_type": "code",
   "execution_count": 34,
   "metadata": {},
   "outputs": [
    {
     "data": {
      "text/plain": [
       "\n",
       "\tWilcoxon rank sum test with continuity correction\n",
       "\n",
       "data:  nombre.de.boites.mail by personnalisation.de.la.messagerie\n",
       "W = 17171, p-value = 0.01954\n",
       "alternative hypothesis: true location shift is not equal to 0\n"
      ]
     },
     "metadata": {},
     "output_type": "display_data"
    }
   ],
   "source": [
    "wilcox.test(nombre.de.boites.mail~personnalisation.de.la.messagerie)"
   ]
  },
  {
   "cell_type": "markdown",
   "metadata": {},
   "source": [
    "p value faible==> lien existant"
   ]
  }
 ],
 "metadata": {
  "kernelspec": {
   "display_name": "R",
   "language": "R",
   "name": "ir"
  },
  "language_info": {
   "codemirror_mode": "r",
   "file_extension": ".r",
   "mimetype": "text/x-r-source",
   "name": "R",
   "pygments_lexer": "r",
   "version": "3.4.3"
  }
 },
 "nbformat": 4,
 "nbformat_minor": 2
}
